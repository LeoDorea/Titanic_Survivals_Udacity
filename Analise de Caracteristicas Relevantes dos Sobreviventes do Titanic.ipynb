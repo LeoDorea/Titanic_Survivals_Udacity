{
 "cells": [
  {
   "cell_type": "markdown",
   "metadata": {
    "collapsed": true
   },
   "source": [
    "# Análise de Caracteríticas dos Sobreviventes do Titanic"
   ]
  },
  {
   "cell_type": "markdown",
   "metadata": {},
   "source": [
    "## Objetivo"
   ]
  },
  {
   "cell_type": "markdown",
   "metadata": {},
   "source": [
    "Esse relatório tem o objetivo de analisar algumas características dos passageiros do Titanic para determinar se algumas delas guarda algum tipo de correlação entre ter sobrevivido ou não ao acidente.\n",
    "\n",
    "Não serão feitas análises mais aprofundadas para avaliar diferenças estastíticas entre dados, portanto os resultados são apenas indicativos, porém não conclusivos."
   ]
  },
  {
   "cell_type": "markdown",
   "metadata": {},
   "source": [
    "## Conjunto de Dados para Análise "
   ]
  },
  {
   "cell_type": "markdown",
   "metadata": {},
   "source": [
    "O conjunto de dados que será analisado esta disponível através da página do kaggle para fins de treinamento em análise de dados e machine learning. Nesse conjunto de dados estao informações de 891 passageiros e tripulantes do Titanic."
   ]
  },
  {
   "attachments": {
    "Data_Table.png": {
     "image/png": "[encoded data removed]"
    }
   },
   "cell_type": "markdown",
   "metadata": {},
   "source": [
    "![Data_Table.png](attachment:Data_Table.png)"
   ]
  },
  {
   "cell_type": "markdown",
   "metadata": {},
   "source": [
    "## Análise de Dados"
   ]
  },
  {
   "cell_type": "markdown",
   "metadata": {},
   "source": [
    "### Fazendo Perguntas"
   ]
  },
  {
   "cell_type": "markdown",
   "metadata": {},
   "source": [
    "O conjunto de dados deve ser utilizado para reponder quais poderiam ser as características que indicam alguma relevância para ter sobrevivido ou não ao desastre do Titanic.\n",
    "\n",
    "Nesse relatório serão realizadas análises para responder as seguintes perguntas:\n",
    "        - O gênero do passageiro mostra alguma influência entre sobreviventes?\n",
    "        \n",
    "        - Viajar acompanhado mostra algum aumento nas chances de sobrevivência?\n",
    "                \n",
    "\t\t- A idade da pessoa foi um fator relevante?\n",
    "                        \n",
    "        - Status econômico foi um fator que aumentou a taxa de sobreviventes?\n",
    "        \n",
    "\t\t- O local da cabine tem alguma influência?"
   ]
  },
  {
   "cell_type": "markdown",
   "metadata": {},
   "source": [
    "### Agrupando e Limpando os Dados"
   ]
  },
  {
   "cell_type": "markdown",
   "metadata": {},
   "source": [
    "Nessa etapa, vamos analisar os dados para identificar se os nomes das colunas e os tipo de dados estão condizentes com as melhores práticas.\n",
    "\n",
    "Vamos analisar ainda se os dados são relevantes para as análises e se temos problemas como dados duplicados ou ausentes.\n",
    "\n",
    "Vamos iniciar carregando o conjunto de dados."
   ]
  },
  {
   "cell_type": "code",
   "execution_count": 1,
   "metadata": {},
   "outputs": [],
   "source": [
    "# Importanto os pacotes necessários\n",
    "import pandas as pd\n",
    "import numpy as np\n",
    "import matplotlib.pyplot as plt\n",
    "import matplotlib.patches as mpatches\n",
    "import seaborn as sns\n",
    "sns.set_style('darkgrid')\n",
    "%matplotlib inline"
   ]
  },
  {
   "cell_type": "code",
   "execution_count": 2,
   "metadata": {},
   "outputs": [
    {
     "data": {
      "text/html": [
       "<div>\n",
       "<style scoped>\n",
       "    .dataframe tbody tr th:only-of-type {\n",
       "        vertical-align: middle;\n",
       "    }\n",
       "\n",
       "    .dataframe tbody tr th {\n",
       "        vertical-align: top;\n",
       "    }\n",
       "\n",
       "    .dataframe thead th {\n",
       "        text-align: right;\n",
       "    }\n",
       "</style>\n",
       "<table border=\"1\" class=\"dataframe\">\n",
       "  <thead>\n",
       "    <tr style=\"text-align: right;\">\n",
       "      <th></th>\n",
       "      <th>PassengerId</th>\n",
       "      <th>Survived</th>\n",
       "      <th>Pclass</th>\n",
       "      <th>Name</th>\n",
       "      <th>Sex</th>\n",
       "      <th>Age</th>\n",
       "      <th>SibSp</th>\n",
       "      <th>Parch</th>\n",
       "      <th>Ticket</th>\n",
       "      <th>Fare</th>\n",
       "      <th>Cabin</th>\n",
       "      <th>Embarked</th>\n",
       "    </tr>\n",
       "  </thead>\n",
       "  <tbody>\n",
       "    <tr>\n",
       "      <th>0</th>\n",
       "      <td>1</td>\n",
       "      <td>0</td>\n",
       "      <td>3</td>\n",
       "      <td>Braund, Mr. Owen Harris</td>\n",
       "      <td>male</td>\n",
       "      <td>22.0</td>\n",
       "      <td>1</td>\n",
       "      <td>0</td>\n",
       "      <td>A/5 21171</td>\n",
       "      <td>7.2500</td>\n",
       "      <td>NaN</td>\n",
       "      <td>S</td>\n",
       "    </tr>\n",
       "    <tr>\n",
       "      <th>1</th>\n",
       "      <td>2</td>\n",
       "      <td>1</td>\n",
       "      <td>1</td>\n",
       "      <td>Cumings, Mrs. John Bradley (Florence Briggs Th...</td>\n",
       "      <td>female</td>\n",
       "      <td>38.0</td>\n",
       "      <td>1</td>\n",
       "      <td>0</td>\n",
       "      <td>PC 17599</td>\n",
       "      <td>71.2833</td>\n",
       "      <td>C85</td>\n",
       "      <td>C</td>\n",
       "    </tr>\n",
       "    <tr>\n",
       "      <th>2</th>\n",
       "      <td>3</td>\n",
       "      <td>1</td>\n",
       "      <td>3</td>\n",
       "      <td>Heikkinen, Miss. Laina</td>\n",
       "      <td>female</td>\n",
       "      <td>26.0</td>\n",
       "      <td>0</td>\n",
       "      <td>0</td>\n",
       "      <td>STON/O2. 3101282</td>\n",
       "      <td>7.9250</td>\n",
       "      <td>NaN</td>\n",
       "      <td>S</td>\n",
       "    </tr>\n",
       "    <tr>\n",
       "      <th>3</th>\n",
       "      <td>4</td>\n",
       "      <td>1</td>\n",
       "      <td>1</td>\n",
       "      <td>Futrelle, Mrs. Jacques Heath (Lily May Peel)</td>\n",
       "      <td>female</td>\n",
       "      <td>35.0</td>\n",
       "      <td>1</td>\n",
       "      <td>0</td>\n",
       "      <td>113803</td>\n",
       "      <td>53.1000</td>\n",
       "      <td>C123</td>\n",
       "      <td>S</td>\n",
       "    </tr>\n",
       "    <tr>\n",
       "      <th>4</th>\n",
       "      <td>5</td>\n",
       "      <td>0</td>\n",
       "      <td>3</td>\n",
       "      <td>Allen, Mr. William Henry</td>\n",
       "      <td>male</td>\n",
       "      <td>35.0</td>\n",
       "      <td>0</td>\n",
       "      <td>0</td>\n",
       "      <td>373450</td>\n",
       "      <td>8.0500</td>\n",
       "      <td>NaN</td>\n",
       "      <td>S</td>\n",
       "    </tr>\n",
       "  </tbody>\n",
       "</table>\n",
       "</div>"
      ],
      "text/plain": [
       "   PassengerId  Survived  Pclass  \\\n",
       "0            1         0       3   \n",
       "1            2         1       1   \n",
       "2            3         1       3   \n",
       "3            4         1       1   \n",
       "4            5         0       3   \n",
       "\n",
       "                                                Name     Sex   Age  SibSp  \\\n",
       "0                            Braund, Mr. Owen Harris    male  22.0      1   \n",
       "1  Cumings, Mrs. John Bradley (Florence Briggs Th...  female  38.0      1   \n",
       "2                             Heikkinen, Miss. Laina  female  26.0      0   \n",
       "3       Futrelle, Mrs. Jacques Heath (Lily May Peel)  female  35.0      1   \n",
       "4                           Allen, Mr. William Henry    male  35.0      0   \n",
       "\n",
       "   Parch            Ticket     Fare Cabin Embarked  \n",
       "0      0         A/5 21171   7.2500   NaN        S  \n",
       "1      0          PC 17599  71.2833   C85        C  \n",
       "2      0  STON/O2. 3101282   7.9250   NaN        S  \n",
       "3      0            113803  53.1000  C123        S  \n",
       "4      0            373450   8.0500   NaN        S  "
      ]
     },
     "execution_count": 2,
     "metadata": {},
     "output_type": "execute_result"
    }
   ],
   "source": [
    "# Carregando os conjunto de dados\n",
    "df = pd.read_csv('DataSet/titanic-data-6.csv')\n",
    "\n",
    "# Confirmando se os dados foram carregados corretamente\n",
    "df.head()"
   ]
  },
  {
   "cell_type": "markdown",
   "metadata": {},
   "source": [
    "As colunas tem nomes que poderiam ser mais explícitos sobre os dados que estão inseridos nelas.\n",
    "\n",
    "Além disso, as colunas tem letras maiúsculas e minúsculas. O indicado é que tenham apenas uma dessas formatações.\n",
    "\n",
    "Para corrigir, vamos alterar os nomes das colunas."
   ]
  },
  {
   "cell_type": "code",
   "execution_count": 3,
   "metadata": {},
   "outputs": [
    {
     "data": {
      "text/plain": [
       "Index(['passenger_id', 'survived', 'passenger_class', 'name', 'sex', 'age',\n",
       "       'sibling_spouse', 'parent_children', 'ticket_id', 'fare', 'cabin_id',\n",
       "       'port_embarkation'],\n",
       "      dtype='object')"
      ]
     },
     "execution_count": 3,
     "metadata": {},
     "output_type": "execute_result"
    }
   ],
   "source": [
    "# Definindo os novos nomes das colunas\n",
    "new_labels = ['passenger_id', 'survived', 'passenger_class', 'name', 'sex', 'age', 'sibling_spouse', \n",
    "              'parent_children', 'ticket_id', 'fare', 'cabin_id', 'port_embarkation']\n",
    "\n",
    "# Alterando os nomes\n",
    "df.columns = new_labels\n",
    "\n",
    "# Conferindo se a alteração foi bem sucedida\n",
    "df.columns"
   ]
  },
  {
   "cell_type": "markdown",
   "metadata": {},
   "source": [
    "Agora que alteramos os nomes das colunas, vamos analisar se os dados estão com o tipo correto."
   ]
  },
  {
   "cell_type": "code",
   "execution_count": 4,
   "metadata": {},
   "outputs": [
    {
     "name": "stdout",
     "output_type": "stream",
     "text": [
      "<class 'pandas.core.frame.DataFrame'>\n",
      "RangeIndex: 891 entries, 0 to 890\n",
      "Data columns (total 12 columns):\n",
      "passenger_id        891 non-null int64\n",
      "survived            891 non-null int64\n",
      "passenger_class     891 non-null int64\n",
      "name                891 non-null object\n",
      "sex                 891 non-null object\n",
      "age                 714 non-null float64\n",
      "sibling_spouse      891 non-null int64\n",
      "parent_children     891 non-null int64\n",
      "ticket_id           891 non-null object\n",
      "fare                891 non-null float64\n",
      "cabin_id            204 non-null object\n",
      "port_embarkation    889 non-null object\n",
      "dtypes: float64(2), int64(5), object(5)\n",
      "memory usage: 83.6+ KB\n"
     ]
    }
   ],
   "source": [
    "df.info()"
   ]
  },
  {
   "cell_type": "markdown",
   "metadata": {},
   "source": [
    "A coluna \"survived\" parece ter o tipo incorreto. Nessa coluna está a indicação se o passageiro sobreviveu ou não, porém está com o tipo inteiro.\n",
    "\n",
    "Esse valor está sendo utilizado como uma referencia sendo 0 para \"nao sobrevivente\" e 1 para \"sobrevivente\". No entanto, faz mais sentido guardá-lo como uma string com o valor literal.\n",
    "\n",
    "A coluna \"age\" tambem parece estar incorreto tambem por estar como um float e sabemos que nao existem idades com ponto flutuante. Entretanto, isso acontece pois estao sendo identificados os que tem menos de um ano e os que tiveram a idade estimada dessa com numeros com ponto flutuante.\n",
    "\n",
    "Sendo assim, vamos corrigir apenas a coluna dos sobreviventes."
   ]
  },
  {
   "cell_type": "code",
   "execution_count": 5,
   "metadata": {},
   "outputs": [
    {
     "name": "stdout",
     "output_type": "stream",
     "text": [
      "Antes da modificação:\n",
      "0    549\n",
      "1    342\n",
      "Name: survived, dtype: int64\n",
      "Após a modificação\n",
      "no     549\n",
      "yes    342\n",
      "Name: survived, dtype: int64\n",
      "Tipo de dado: <class 'str'>\n"
     ]
    }
   ],
   "source": [
    "# Checando os valores atuais\n",
    "print('Antes da modificação:')\n",
    "print(df['survived'].value_counts())\n",
    "\n",
    "# Alterando os dados\n",
    "df['survived'] = df['survived'].apply(lambda x: 'no' if x==0 else 'yes')\n",
    "\n",
    "# Conferindo se esta correto\n",
    "print('Após a modificação')\n",
    "print(df['survived'].value_counts())\n",
    "print(f'Tipo de dado: {type(df[\"survived\"][0])}')"
   ]
  },
  {
   "cell_type": "markdown",
   "metadata": {},
   "source": [
    "Agora temos as colunas com nomes bem identificados e os dados com os tipos corretos.\n",
    "\n",
    "Vamos analisar os valores para identificar possíveis problemas.\n",
    "\n",
    "Primeiro, vamos analisar se temos valores duplicados."
   ]
  },
  {
   "cell_type": "code",
   "execution_count": 6,
   "metadata": {},
   "outputs": [
    {
     "name": "stdout",
     "output_type": "stream",
     "text": [
      "O conjunto de dados tem 0 linhas duplicadas\n"
     ]
    }
   ],
   "source": [
    "print(f'O conjunto de dados tem {df.duplicated().sum()} linhas duplicadas')"
   ]
  },
  {
   "cell_type": "markdown",
   "metadata": {},
   "source": [
    "Ótimo! Não temos dados duplicados.\n",
    "\n",
    "Agora precisamos saber sobre os valores ausentes"
   ]
  },
  {
   "cell_type": "code",
   "execution_count": 7,
   "metadata": {},
   "outputs": [
    {
     "name": "stdout",
     "output_type": "stream",
     "text": [
      "O conjunto de dados tem 3 colunas com valores nulos:\n",
      "age - 177 registros nulos\n",
      "cabin_id - 687 registros nulos\n",
      "port_embarkation - 2 registros nulos\n"
     ]
    }
   ],
   "source": [
    "# Identificando o total de colunas com valores nulos e seus nomes\n",
    "print(f'O conjunto de dados tem {df.isnull().any().sum()} colunas com valores nulos:')\n",
    "for column in df.columns:\n",
    "    if df[column].isnull().any():\n",
    "        print(f'{column} - {df[column].isnull().sum()} registros nulos')"
   ]
  },
  {
   "cell_type": "markdown",
   "metadata": {},
   "source": [
    "Temos um grande problema aqui!\n",
    "\n",
    "Os dados de idade e, principalmente, identificação da cabine tem muitos dados com valores nulos.\n",
    "\n",
    "É importante considerar também que nem todas as analises dependem dos valores dessas colunas. Portanto, vamos manter esses dados, porém quando utilizados, precisamos lembrar do impacto que manter essas colunas podem ter na análise.\n",
    "\n",
    "Apesar de manter as colunas, vamos preencher os valores ausentes com valores padrões.\n",
    "\n",
    "No caso da cabine, vamos apenas identificar que são colunas ausentes.\n",
    "\n",
    "Para a idade, os valores nulos serão preenchidos com o valor médio das idades, porém, antes, vamos avaliar o impacto nos dados."
   ]
  },
  {
   "cell_type": "code",
   "execution_count": 8,
   "metadata": {},
   "outputs": [
    {
     "data": {
      "text/plain": [
       "count    714.000000\n",
       "mean      29.699118\n",
       "std       14.526497\n",
       "min        0.420000\n",
       "25%       20.125000\n",
       "50%       28.000000\n",
       "75%       38.000000\n",
       "max       80.000000\n",
       "Name: age, dtype: float64"
      ]
     },
     "execution_count": 8,
     "metadata": {},
     "output_type": "execute_result"
    }
   ],
   "source": [
    "df['age'].describe()"
   ]
  },
  {
   "cell_type": "code",
   "execution_count": 9,
   "metadata": {},
   "outputs": [
    {
     "name": "stdout",
     "output_type": "stream",
     "text": [
      "count    891.000000\n",
      "mean      29.699118\n",
      "std       13.002015\n",
      "min        0.420000\n",
      "25%       22.000000\n",
      "50%       29.699118\n",
      "75%       35.000000\n",
      "max       80.000000\n",
      "Name: age, dtype: float64\n",
      "\n",
      "Taxa de sobrevivencia dos individuos sem idade identificada: 29.38%\n"
     ]
    }
   ],
   "source": [
    "# Preechendo os valores ausentes, porém não modificando ainda no dataset original\n",
    "df1 = df['age'].fillna(df['age'].mean())\n",
    "print(df1.describe())\n",
    "\n",
    "# Verificando a taxa de sobrevivência de indivíduos sem idade identificada\n",
    "df2 = df[df['age'].isnull()]\n",
    "print(f\"\\nTaxa de sobrevivencia dos individuos sem idade identificada: {(df2['survived'].value_counts()['yes']/df2['survived'].value_counts().sum()):.2%}\")"
   ]
  },
  {
   "cell_type": "markdown",
   "metadata": {},
   "source": [
    "Comparando as duas análises, e possível perceber uma tendência dos dados de se deslocarem para o valor da média. O que sofreu maior alteracao foi o 75 percentil com variacao de 3 anos - de 38 anos para 35.\n",
    "\n",
    "O impacto nos dados não parece ser muito relevante, mas adicionaríamos relativamente muitas amostras com elevado grau de incerteza (177 de um total de 891 - aproximadamente 20% da amostra), além de impactar negativamente na taxa de sobrevivência para indivíduos com idade próxima a média das idades.\n",
    "\n",
    "Sendo assim, vamos executar a alteração, mas precisamos ter isso em mente quando analisarmos os dados com base na idade."
   ]
  },
  {
   "cell_type": "code",
   "execution_count": 10,
   "metadata": {},
   "outputs": [],
   "source": [
    "# Confirmando o preenchimento dos valores ausentes com a média da idade\n",
    "df['age'] = df['age'].fillna(df['age'].mean())"
   ]
  },
  {
   "cell_type": "markdown",
   "metadata": {},
   "source": [
    "Para a coluna das cabines, poderíamos preencher também com alguma informação padrão como \"NI\" - Not Informed. Entretanto, não vamos proceder com a alteração, pois será mais fácil descartar os valores sem informação utilizando o parâmetro \"dropna=True\" da funções.\n",
    "\n",
    "Para a informação das cabines, primeiramente, vamos ver como estão inseridos os valores."
   ]
  },
  {
   "cell_type": "code",
   "execution_count": 11,
   "metadata": {},
   "outputs": [
    {
     "name": "stdout",
     "output_type": "stream",
     "text": [
      "Informacoes Gerais Sobre a Coluna de ID da cabine\n",
      "count             204\n",
      "unique            147\n",
      "top       C23 C25 C27\n",
      "freq                4\n",
      "Name: cabin_id, dtype: object\n"
     ]
    }
   ],
   "source": [
    "# Consultando os valores e contagem da coluna com informação das cabines\n",
    "print('Informacoes Gerais Sobre a Coluna de ID da cabine')\n",
    "print(df['cabin_id'].describe())"
   ]
  },
  {
   "cell_type": "markdown",
   "metadata": {},
   "source": [
    "É possível notar que a ausência de muitos valores não é a única dificuldade de trabalhar com essa informação. A ocorrência de muitos valores únicos também não é muito válido para analisar alguma tendência.\n",
    "\n",
    "Outro problema é que algumas linhas tem a informação de mais de uma cabines. Vamos analisar os casos que temos mais de uma cabine informada."
   ]
  },
  {
   "cell_type": "code",
   "execution_count": 12,
   "metadata": {},
   "outputs": [
    {
     "data": {
      "text/plain": [
       "array(['C23 C25 C27', 'F G73', 'D10 D12', 'B58 B60', 'F E69', 'C22 C26',\n",
       "       'B57 B59 B63 B66', 'B96 B98', 'B51 B53 B55', 'F G63', 'C62 C64',\n",
       "       'B82 B84'], dtype=object)"
      ]
     },
     "execution_count": 12,
     "metadata": {},
     "output_type": "execute_result"
    }
   ],
   "source": [
    "df1 = df[df['cabin_id'].str.contains(' ', na=False)]\n",
    "df1['cabin_id'].unique()"
   ]
  },
  {
   "cell_type": "markdown",
   "metadata": {},
   "source": [
    "É possível notar que os valores que temos mais de uma cabine informada, todas estão no mesmo deck e elas tem números relativamente proximos.\n",
    "\n",
    "Em alguns casos, todos para um deck \"F\", temos apenas a indicacao do possível deck \"F\" e, em seguida, uma informação completa de cabine, porém em outro deck. Nesses casos, será considerada a informação mais completa: deck e número da cabine.\n",
    "\n",
    "Para tratar os dados dessa coluna, vamos considerar duas premissas:\n",
    "    1 - A letra que precede o número indica o deck que a cabine está localizada\n",
    "    2 - Para as informações duplicadas, será considerada apenas a primeira cabine informada na coluna. Se analisarmos essas ocorrências, percebemos que os números são próximos e, portanto, não deve adicionar considerável nível de incerteza aos resultados.\n",
    "    \n",
    "Tratando os dados dessa coluna para exibir a informação conforme premissas acima:"
   ]
  },
  {
   "cell_type": "code",
   "execution_count": 13,
   "metadata": {},
   "outputs": [
    {
     "data": {
      "text/html": [
       "<div>\n",
       "<style scoped>\n",
       "    .dataframe tbody tr th:only-of-type {\n",
       "        vertical-align: middle;\n",
       "    }\n",
       "\n",
       "    .dataframe tbody tr th {\n",
       "        vertical-align: top;\n",
       "    }\n",
       "\n",
       "    .dataframe thead th {\n",
       "        text-align: right;\n",
       "    }\n",
       "</style>\n",
       "<table border=\"1\" class=\"dataframe\">\n",
       "  <thead>\n",
       "    <tr style=\"text-align: right;\">\n",
       "      <th></th>\n",
       "      <th>cabin_id</th>\n",
       "      <th>cabin_deck</th>\n",
       "      <th>cabin_num</th>\n",
       "    </tr>\n",
       "  </thead>\n",
       "  <tbody>\n",
       "    <tr>\n",
       "      <th>1</th>\n",
       "      <td>C85</td>\n",
       "      <td>C</td>\n",
       "      <td>85.0</td>\n",
       "    </tr>\n",
       "    <tr>\n",
       "      <th>3</th>\n",
       "      <td>C123</td>\n",
       "      <td>C</td>\n",
       "      <td>123.0</td>\n",
       "    </tr>\n",
       "    <tr>\n",
       "      <th>6</th>\n",
       "      <td>E46</td>\n",
       "      <td>E</td>\n",
       "      <td>46.0</td>\n",
       "    </tr>\n",
       "    <tr>\n",
       "      <th>10</th>\n",
       "      <td>G6</td>\n",
       "      <td>G</td>\n",
       "      <td>6.0</td>\n",
       "    </tr>\n",
       "    <tr>\n",
       "      <th>11</th>\n",
       "      <td>C103</td>\n",
       "      <td>C</td>\n",
       "      <td>103.0</td>\n",
       "    </tr>\n",
       "    <tr>\n",
       "      <th>21</th>\n",
       "      <td>D56</td>\n",
       "      <td>D</td>\n",
       "      <td>56.0</td>\n",
       "    </tr>\n",
       "    <tr>\n",
       "      <th>23</th>\n",
       "      <td>A6</td>\n",
       "      <td>A</td>\n",
       "      <td>6.0</td>\n",
       "    </tr>\n",
       "    <tr>\n",
       "      <th>27</th>\n",
       "      <td>C23 C25 C27</td>\n",
       "      <td>C</td>\n",
       "      <td>23.0</td>\n",
       "    </tr>\n",
       "    <tr>\n",
       "      <th>31</th>\n",
       "      <td>B78</td>\n",
       "      <td>B</td>\n",
       "      <td>78.0</td>\n",
       "    </tr>\n",
       "    <tr>\n",
       "      <th>52</th>\n",
       "      <td>D33</td>\n",
       "      <td>D</td>\n",
       "      <td>33.0</td>\n",
       "    </tr>\n",
       "  </tbody>\n",
       "</table>\n",
       "</div>"
      ],
      "text/plain": [
       "       cabin_id cabin_deck  cabin_num\n",
       "1           C85          C       85.0\n",
       "3          C123          C      123.0\n",
       "6           E46          E       46.0\n",
       "10           G6          G        6.0\n",
       "11         C103          C      103.0\n",
       "21          D56          D       56.0\n",
       "23           A6          A        6.0\n",
       "27  C23 C25 C27          C       23.0\n",
       "31          B78          B       78.0\n",
       "52          D33          D       33.0"
      ]
     },
     "execution_count": 13,
     "metadata": {},
     "output_type": "execute_result"
    }
   ],
   "source": [
    "# Criando as colunas que serão inseridas as informações do deck e número da cabine.\n",
    "# De inicio será apenas uma cópia da coluna \"cabin_id\"\n",
    "df['cabin_deck'] = df['cabin_id'].copy()\n",
    "df['cabin_num'] = df['cabin_id'].copy()\n",
    "\n",
    "# Alterando a coluna \"cabin_deck\" para exibir apenas a informação do deck\n",
    "df['cabin_deck'] = df['cabin_deck'].str.slice(0,1)\n",
    "\n",
    "# De forma semelhante, alteramos a coluna \"cabin_num\" para exibir apenas o número\n",
    "df['cabin_num'] = df['cabin_num'].str.extract('(\\d+)')\n",
    "df['cabin_num'] = df['cabin_num'].dropna().astype('float') # Não utilizamos 'int', pois os valores nulos são considerados float\n",
    "\n",
    "# Confirmando se a alteração foi bem sucedida\n",
    "index=[10,12,13]\n",
    "df.iloc[:,index].dropna().head(10)"
   ]
  },
  {
   "cell_type": "markdown",
   "metadata": {},
   "source": [
    "É possivel observar acima que as alterações conforme as premissas ocorreram com sucesso.\n",
    "\n",
    "Agora vamos lidar com a particularidade de algumas cabines que estao no Deck \"F\"."
   ]
  },
  {
   "cell_type": "code",
   "execution_count": 14,
   "metadata": {},
   "outputs": [
    {
     "data": {
      "text/html": [
       "<div>\n",
       "<style scoped>\n",
       "    .dataframe tbody tr th:only-of-type {\n",
       "        vertical-align: middle;\n",
       "    }\n",
       "\n",
       "    .dataframe tbody tr th {\n",
       "        vertical-align: top;\n",
       "    }\n",
       "\n",
       "    .dataframe thead th {\n",
       "        text-align: right;\n",
       "    }\n",
       "</style>\n",
       "<table border=\"1\" class=\"dataframe\">\n",
       "  <thead>\n",
       "    <tr style=\"text-align: right;\">\n",
       "      <th></th>\n",
       "      <th>cabin_id</th>\n",
       "      <th>cabin_deck</th>\n",
       "      <th>cabin_num</th>\n",
       "    </tr>\n",
       "  </thead>\n",
       "  <tbody>\n",
       "    <tr>\n",
       "      <th>66</th>\n",
       "      <td>F33</td>\n",
       "      <td>F</td>\n",
       "      <td>33.0</td>\n",
       "    </tr>\n",
       "    <tr>\n",
       "      <th>75</th>\n",
       "      <td>F G73</td>\n",
       "      <td>F</td>\n",
       "      <td>73.0</td>\n",
       "    </tr>\n",
       "    <tr>\n",
       "      <th>128</th>\n",
       "      <td>F E69</td>\n",
       "      <td>F</td>\n",
       "      <td>69.0</td>\n",
       "    </tr>\n",
       "    <tr>\n",
       "      <th>148</th>\n",
       "      <td>F2</td>\n",
       "      <td>F</td>\n",
       "      <td>2.0</td>\n",
       "    </tr>\n",
       "    <tr>\n",
       "      <th>183</th>\n",
       "      <td>F4</td>\n",
       "      <td>F</td>\n",
       "      <td>4.0</td>\n",
       "    </tr>\n",
       "    <tr>\n",
       "      <th>193</th>\n",
       "      <td>F2</td>\n",
       "      <td>F</td>\n",
       "      <td>2.0</td>\n",
       "    </tr>\n",
       "    <tr>\n",
       "      <th>340</th>\n",
       "      <td>F2</td>\n",
       "      <td>F</td>\n",
       "      <td>2.0</td>\n",
       "    </tr>\n",
       "    <tr>\n",
       "      <th>345</th>\n",
       "      <td>F33</td>\n",
       "      <td>F</td>\n",
       "      <td>33.0</td>\n",
       "    </tr>\n",
       "    <tr>\n",
       "      <th>516</th>\n",
       "      <td>F33</td>\n",
       "      <td>F</td>\n",
       "      <td>33.0</td>\n",
       "    </tr>\n",
       "    <tr>\n",
       "      <th>618</th>\n",
       "      <td>F4</td>\n",
       "      <td>F</td>\n",
       "      <td>4.0</td>\n",
       "    </tr>\n",
       "    <tr>\n",
       "      <th>699</th>\n",
       "      <td>F G63</td>\n",
       "      <td>F</td>\n",
       "      <td>63.0</td>\n",
       "    </tr>\n",
       "    <tr>\n",
       "      <th>715</th>\n",
       "      <td>F G73</td>\n",
       "      <td>F</td>\n",
       "      <td>73.0</td>\n",
       "    </tr>\n",
       "    <tr>\n",
       "      <th>776</th>\n",
       "      <td>F38</td>\n",
       "      <td>F</td>\n",
       "      <td>38.0</td>\n",
       "    </tr>\n",
       "  </tbody>\n",
       "</table>\n",
       "</div>"
      ],
      "text/plain": [
       "    cabin_id cabin_deck  cabin_num\n",
       "66       F33          F       33.0\n",
       "75     F G73          F       73.0\n",
       "128    F E69          F       69.0\n",
       "148       F2          F        2.0\n",
       "183       F4          F        4.0\n",
       "193       F2          F        2.0\n",
       "340       F2          F        2.0\n",
       "345      F33          F       33.0\n",
       "516      F33          F       33.0\n",
       "618       F4          F        4.0\n",
       "699    F G63          F       63.0\n",
       "715    F G73          F       73.0\n",
       "776      F38          F       38.0"
      ]
     },
     "execution_count": 14,
     "metadata": {},
     "output_type": "execute_result"
    }
   ],
   "source": [
    "# Exibindo os valores que queremos alterar\n",
    "index=[10,12,13]\n",
    "df.query('cabin_deck==\"F\"').iloc[:,index]"
   ]
  },
  {
   "cell_type": "markdown",
   "metadata": {},
   "source": [
    "Como explicado antriormente, para esses casos, vamos considerar os resultados que tenham a informação mais completa da cabine. No nosso caso, vamos alterar os valores nos indices 75, 128, 699 e 715 para o deck \"G\", ja que temos tambem o número da cabime desse deck.\n",
    "\n",
    "Como temos apenas quatro valores, vamos criar uma série de dados identificados com os mesmos índices dos valores que queremos atualizar e fazer a alteração."
   ]
  },
  {
   "cell_type": "code",
   "execution_count": 15,
   "metadata": {
    "scrolled": true
   },
   "outputs": [
    {
     "data": {
      "text/html": [
       "<div>\n",
       "<style scoped>\n",
       "    .dataframe tbody tr th:only-of-type {\n",
       "        vertical-align: middle;\n",
       "    }\n",
       "\n",
       "    .dataframe tbody tr th {\n",
       "        vertical-align: top;\n",
       "    }\n",
       "\n",
       "    .dataframe thead th {\n",
       "        text-align: right;\n",
       "    }\n",
       "</style>\n",
       "<table border=\"1\" class=\"dataframe\">\n",
       "  <thead>\n",
       "    <tr style=\"text-align: right;\">\n",
       "      <th></th>\n",
       "      <th>cabin_id</th>\n",
       "      <th>cabin_deck</th>\n",
       "      <th>cabin_num</th>\n",
       "    </tr>\n",
       "  </thead>\n",
       "  <tbody>\n",
       "    <tr>\n",
       "      <th>66</th>\n",
       "      <td>F33</td>\n",
       "      <td>F</td>\n",
       "      <td>33.0</td>\n",
       "    </tr>\n",
       "    <tr>\n",
       "      <th>148</th>\n",
       "      <td>F2</td>\n",
       "      <td>F</td>\n",
       "      <td>2.0</td>\n",
       "    </tr>\n",
       "    <tr>\n",
       "      <th>183</th>\n",
       "      <td>F4</td>\n",
       "      <td>F</td>\n",
       "      <td>4.0</td>\n",
       "    </tr>\n",
       "    <tr>\n",
       "      <th>193</th>\n",
       "      <td>F2</td>\n",
       "      <td>F</td>\n",
       "      <td>2.0</td>\n",
       "    </tr>\n",
       "    <tr>\n",
       "      <th>340</th>\n",
       "      <td>F2</td>\n",
       "      <td>F</td>\n",
       "      <td>2.0</td>\n",
       "    </tr>\n",
       "    <tr>\n",
       "      <th>345</th>\n",
       "      <td>F33</td>\n",
       "      <td>F</td>\n",
       "      <td>33.0</td>\n",
       "    </tr>\n",
       "    <tr>\n",
       "      <th>516</th>\n",
       "      <td>F33</td>\n",
       "      <td>F</td>\n",
       "      <td>33.0</td>\n",
       "    </tr>\n",
       "    <tr>\n",
       "      <th>618</th>\n",
       "      <td>F4</td>\n",
       "      <td>F</td>\n",
       "      <td>4.0</td>\n",
       "    </tr>\n",
       "    <tr>\n",
       "      <th>776</th>\n",
       "      <td>F38</td>\n",
       "      <td>F</td>\n",
       "      <td>38.0</td>\n",
       "    </tr>\n",
       "  </tbody>\n",
       "</table>\n",
       "</div>"
      ],
      "text/plain": [
       "    cabin_id cabin_deck  cabin_num\n",
       "66       F33          F       33.0\n",
       "148       F2          F        2.0\n",
       "183       F4          F        4.0\n",
       "193       F2          F        2.0\n",
       "340       F2          F        2.0\n",
       "345      F33          F       33.0\n",
       "516      F33          F       33.0\n",
       "618       F4          F        4.0\n",
       "776      F38          F       38.0"
      ]
     },
     "execution_count": 15,
     "metadata": {},
     "output_type": "execute_result"
    }
   ],
   "source": [
    "# Criando a série com os valores\n",
    "new_values = pd.Series(['G', 'E', 'G', 'G'], index = [75, 128, 699, 715])\n",
    "\n",
    "# Atualizando os dados\n",
    "df['cabin_deck'].update(new_values)\n",
    "\n",
    "# Conferindo se a atualização foi bem sucedida\n",
    "df.query('cabin_deck == \"F\"').iloc[:,index]"
   ]
  },
  {
   "cell_type": "markdown",
   "metadata": {},
   "source": [
    "Agora que temos a informação das cabines no formato que queremos, podemos excluir a coluna \"cabin_id\" que agora tem informações irrelevantes."
   ]
  },
  {
   "cell_type": "code",
   "execution_count": 16,
   "metadata": {},
   "outputs": [],
   "source": [
    "# Excluindo a coluna \"cabin_id\"\n",
    "df.drop('cabin_id', axis=1, inplace=True)"
   ]
  },
  {
   "cell_type": "markdown",
   "metadata": {},
   "source": [
    "Outra analise dos dados que precisamos realizar é com as colunas que guardam informações sobre os integrantes da família.\n",
    "\n",
    "Queremos ter algum insight sobre o impacto de viajar acompanhado com a taxa de sobrevivência. Para tanto, vamos utilizar os dados das colunas \"siblings_spouse\" e \"parent_children\" para essa inferência.\n",
    "\n",
    "Como a pergunta se refere a viajar acompanhado, sem especificar de quem, vamos somar os valores das duas colunas para determinar se ter mais pessoas como acompanhantes aumentou a taxa de sobrevivência."
   ]
  },
  {
   "cell_type": "code",
   "execution_count": 17,
   "metadata": {},
   "outputs": [
    {
     "name": "stdout",
     "output_type": "stream",
     "text": [
      "Viajantes Acompanhados:\n",
      "1     161\n",
      "2     102\n",
      "3      29\n",
      "5      22\n",
      "4      15\n",
      "6      12\n",
      "10      7\n",
      "7       6\n",
      "Name: family_size, dtype: int64\n",
      "\n",
      "Viajantes Desacompanhados:\n",
      "0    537\n",
      "Name: family_size, dtype: int64\n"
     ]
    }
   ],
   "source": [
    "# Criando a coluna da soma dos acompanhantes\n",
    "df['family_size'] = df['sibling_spouse'] + df['parent_children']\n",
    "\n",
    "# Criando uma coluna mais geral, apenas para mostrar se estava viajando sozinho ou não\n",
    "df['travel_alone'] = df['family_size'].apply(lambda x: 'yes' if x==0 else 'no')\n",
    "\n",
    "# Conferindo se as informações nas colunas estão corretas\n",
    "print('Viajantes Acompanhados:')\n",
    "print(df.query('travel_alone == \"no\"')['family_size'].value_counts())\n",
    "print('\\nViajantes Desacompanhados:')\n",
    "print(df.query('travel_alone == \"yes\"')['family_size'].value_counts())"
   ]
  },
  {
   "cell_type": "markdown",
   "metadata": {},
   "source": [
    "A última parte do codigo é apenas uma validação do campo criado. Não temos viajantes acompanhados com tamanho de família igual a zero e não temos viajantes desacompanhados com tamanho de família maior que zero. Os dados estão corretos.\n",
    "\n",
    "Com essa última alteração, temos nosso conjunto de dados com os dados e no formato próprios para iniciar a exploração dos dados."
   ]
  },
  {
   "cell_type": "code",
   "execution_count": 18,
   "metadata": {},
   "outputs": [
    {
     "name": "stdout",
     "output_type": "stream",
     "text": [
      "<class 'pandas.core.frame.DataFrame'>\n",
      "RangeIndex: 891 entries, 0 to 890\n",
      "Data columns (total 15 columns):\n",
      "passenger_id        891 non-null int64\n",
      "survived            891 non-null object\n",
      "passenger_class     891 non-null int64\n",
      "name                891 non-null object\n",
      "sex                 891 non-null object\n",
      "age                 891 non-null float64\n",
      "sibling_spouse      891 non-null int64\n",
      "parent_children     891 non-null int64\n",
      "ticket_id           891 non-null object\n",
      "fare                891 non-null float64\n",
      "port_embarkation    889 non-null object\n",
      "cabin_deck          204 non-null object\n",
      "cabin_num           200 non-null float64\n",
      "family_size         891 non-null int64\n",
      "travel_alone        891 non-null object\n",
      "dtypes: float64(3), int64(5), object(7)\n",
      "memory usage: 104.5+ KB\n"
     ]
    }
   ],
   "source": [
    "# Conferindo nosso conjunto de dados para os tipos de dados\n",
    "df.info()"
   ]
  },
  {
   "cell_type": "code",
   "execution_count": 19,
   "metadata": {},
   "outputs": [
    {
     "data": {
      "text/html": [
       "<div>\n",
       "<style scoped>\n",
       "    .dataframe tbody tr th:only-of-type {\n",
       "        vertical-align: middle;\n",
       "    }\n",
       "\n",
       "    .dataframe tbody tr th {\n",
       "        vertical-align: top;\n",
       "    }\n",
       "\n",
       "    .dataframe thead th {\n",
       "        text-align: right;\n",
       "    }\n",
       "</style>\n",
       "<table border=\"1\" class=\"dataframe\">\n",
       "  <thead>\n",
       "    <tr style=\"text-align: right;\">\n",
       "      <th></th>\n",
       "      <th>passenger_id</th>\n",
       "      <th>survived</th>\n",
       "      <th>passenger_class</th>\n",
       "      <th>name</th>\n",
       "      <th>sex</th>\n",
       "      <th>age</th>\n",
       "      <th>sibling_spouse</th>\n",
       "      <th>parent_children</th>\n",
       "      <th>ticket_id</th>\n",
       "      <th>fare</th>\n",
       "      <th>port_embarkation</th>\n",
       "      <th>cabin_deck</th>\n",
       "      <th>cabin_num</th>\n",
       "      <th>family_size</th>\n",
       "      <th>travel_alone</th>\n",
       "    </tr>\n",
       "  </thead>\n",
       "  <tbody>\n",
       "    <tr>\n",
       "      <th>0</th>\n",
       "      <td>1</td>\n",
       "      <td>no</td>\n",
       "      <td>3</td>\n",
       "      <td>Braund, Mr. Owen Harris</td>\n",
       "      <td>male</td>\n",
       "      <td>22.000000</td>\n",
       "      <td>1</td>\n",
       "      <td>0</td>\n",
       "      <td>A/5 21171</td>\n",
       "      <td>7.2500</td>\n",
       "      <td>S</td>\n",
       "      <td>NaN</td>\n",
       "      <td>NaN</td>\n",
       "      <td>1</td>\n",
       "      <td>no</td>\n",
       "    </tr>\n",
       "    <tr>\n",
       "      <th>1</th>\n",
       "      <td>2</td>\n",
       "      <td>yes</td>\n",
       "      <td>1</td>\n",
       "      <td>Cumings, Mrs. John Bradley (Florence Briggs Th...</td>\n",
       "      <td>female</td>\n",
       "      <td>38.000000</td>\n",
       "      <td>1</td>\n",
       "      <td>0</td>\n",
       "      <td>PC 17599</td>\n",
       "      <td>71.2833</td>\n",
       "      <td>C</td>\n",
       "      <td>C</td>\n",
       "      <td>85.0</td>\n",
       "      <td>1</td>\n",
       "      <td>no</td>\n",
       "    </tr>\n",
       "    <tr>\n",
       "      <th>2</th>\n",
       "      <td>3</td>\n",
       "      <td>yes</td>\n",
       "      <td>3</td>\n",
       "      <td>Heikkinen, Miss. Laina</td>\n",
       "      <td>female</td>\n",
       "      <td>26.000000</td>\n",
       "      <td>0</td>\n",
       "      <td>0</td>\n",
       "      <td>STON/O2. 3101282</td>\n",
       "      <td>7.9250</td>\n",
       "      <td>S</td>\n",
       "      <td>NaN</td>\n",
       "      <td>NaN</td>\n",
       "      <td>0</td>\n",
       "      <td>yes</td>\n",
       "    </tr>\n",
       "    <tr>\n",
       "      <th>3</th>\n",
       "      <td>4</td>\n",
       "      <td>yes</td>\n",
       "      <td>1</td>\n",
       "      <td>Futrelle, Mrs. Jacques Heath (Lily May Peel)</td>\n",
       "      <td>female</td>\n",
       "      <td>35.000000</td>\n",
       "      <td>1</td>\n",
       "      <td>0</td>\n",
       "      <td>113803</td>\n",
       "      <td>53.1000</td>\n",
       "      <td>S</td>\n",
       "      <td>C</td>\n",
       "      <td>123.0</td>\n",
       "      <td>1</td>\n",
       "      <td>no</td>\n",
       "    </tr>\n",
       "    <tr>\n",
       "      <th>4</th>\n",
       "      <td>5</td>\n",
       "      <td>no</td>\n",
       "      <td>3</td>\n",
       "      <td>Allen, Mr. William Henry</td>\n",
       "      <td>male</td>\n",
       "      <td>35.000000</td>\n",
       "      <td>0</td>\n",
       "      <td>0</td>\n",
       "      <td>373450</td>\n",
       "      <td>8.0500</td>\n",
       "      <td>S</td>\n",
       "      <td>NaN</td>\n",
       "      <td>NaN</td>\n",
       "      <td>0</td>\n",
       "      <td>yes</td>\n",
       "    </tr>\n",
       "    <tr>\n",
       "      <th>5</th>\n",
       "      <td>6</td>\n",
       "      <td>no</td>\n",
       "      <td>3</td>\n",
       "      <td>Moran, Mr. James</td>\n",
       "      <td>male</td>\n",
       "      <td>29.699118</td>\n",
       "      <td>0</td>\n",
       "      <td>0</td>\n",
       "      <td>330877</td>\n",
       "      <td>8.4583</td>\n",
       "      <td>Q</td>\n",
       "      <td>NaN</td>\n",
       "      <td>NaN</td>\n",
       "      <td>0</td>\n",
       "      <td>yes</td>\n",
       "    </tr>\n",
       "    <tr>\n",
       "      <th>6</th>\n",
       "      <td>7</td>\n",
       "      <td>no</td>\n",
       "      <td>1</td>\n",
       "      <td>McCarthy, Mr. Timothy J</td>\n",
       "      <td>male</td>\n",
       "      <td>54.000000</td>\n",
       "      <td>0</td>\n",
       "      <td>0</td>\n",
       "      <td>17463</td>\n",
       "      <td>51.8625</td>\n",
       "      <td>S</td>\n",
       "      <td>E</td>\n",
       "      <td>46.0</td>\n",
       "      <td>0</td>\n",
       "      <td>yes</td>\n",
       "    </tr>\n",
       "    <tr>\n",
       "      <th>7</th>\n",
       "      <td>8</td>\n",
       "      <td>no</td>\n",
       "      <td>3</td>\n",
       "      <td>Palsson, Master. Gosta Leonard</td>\n",
       "      <td>male</td>\n",
       "      <td>2.000000</td>\n",
       "      <td>3</td>\n",
       "      <td>1</td>\n",
       "      <td>349909</td>\n",
       "      <td>21.0750</td>\n",
       "      <td>S</td>\n",
       "      <td>NaN</td>\n",
       "      <td>NaN</td>\n",
       "      <td>4</td>\n",
       "      <td>no</td>\n",
       "    </tr>\n",
       "    <tr>\n",
       "      <th>8</th>\n",
       "      <td>9</td>\n",
       "      <td>yes</td>\n",
       "      <td>3</td>\n",
       "      <td>Johnson, Mrs. Oscar W (Elisabeth Vilhelmina Berg)</td>\n",
       "      <td>female</td>\n",
       "      <td>27.000000</td>\n",
       "      <td>0</td>\n",
       "      <td>2</td>\n",
       "      <td>347742</td>\n",
       "      <td>11.1333</td>\n",
       "      <td>S</td>\n",
       "      <td>NaN</td>\n",
       "      <td>NaN</td>\n",
       "      <td>2</td>\n",
       "      <td>no</td>\n",
       "    </tr>\n",
       "    <tr>\n",
       "      <th>9</th>\n",
       "      <td>10</td>\n",
       "      <td>yes</td>\n",
       "      <td>2</td>\n",
       "      <td>Nasser, Mrs. Nicholas (Adele Achem)</td>\n",
       "      <td>female</td>\n",
       "      <td>14.000000</td>\n",
       "      <td>1</td>\n",
       "      <td>0</td>\n",
       "      <td>237736</td>\n",
       "      <td>30.0708</td>\n",
       "      <td>C</td>\n",
       "      <td>NaN</td>\n",
       "      <td>NaN</td>\n",
       "      <td>1</td>\n",
       "      <td>no</td>\n",
       "    </tr>\n",
       "  </tbody>\n",
       "</table>\n",
       "</div>"
      ],
      "text/plain": [
       "   passenger_id survived  passenger_class  \\\n",
       "0             1       no                3   \n",
       "1             2      yes                1   \n",
       "2             3      yes                3   \n",
       "3             4      yes                1   \n",
       "4             5       no                3   \n",
       "5             6       no                3   \n",
       "6             7       no                1   \n",
       "7             8       no                3   \n",
       "8             9      yes                3   \n",
       "9            10      yes                2   \n",
       "\n",
       "                                                name     sex        age  \\\n",
       "0                            Braund, Mr. Owen Harris    male  22.000000   \n",
       "1  Cumings, Mrs. John Bradley (Florence Briggs Th...  female  38.000000   \n",
       "2                             Heikkinen, Miss. Laina  female  26.000000   \n",
       "3       Futrelle, Mrs. Jacques Heath (Lily May Peel)  female  35.000000   \n",
       "4                           Allen, Mr. William Henry    male  35.000000   \n",
       "5                                   Moran, Mr. James    male  29.699118   \n",
       "6                            McCarthy, Mr. Timothy J    male  54.000000   \n",
       "7                     Palsson, Master. Gosta Leonard    male   2.000000   \n",
       "8  Johnson, Mrs. Oscar W (Elisabeth Vilhelmina Berg)  female  27.000000   \n",
       "9                Nasser, Mrs. Nicholas (Adele Achem)  female  14.000000   \n",
       "\n",
       "   sibling_spouse  parent_children         ticket_id     fare  \\\n",
       "0               1                0         A/5 21171   7.2500   \n",
       "1               1                0          PC 17599  71.2833   \n",
       "2               0                0  STON/O2. 3101282   7.9250   \n",
       "3               1                0            113803  53.1000   \n",
       "4               0                0            373450   8.0500   \n",
       "5               0                0            330877   8.4583   \n",
       "6               0                0             17463  51.8625   \n",
       "7               3                1            349909  21.0750   \n",
       "8               0                2            347742  11.1333   \n",
       "9               1                0            237736  30.0708   \n",
       "\n",
       "  port_embarkation cabin_deck  cabin_num  family_size travel_alone  \n",
       "0                S        NaN        NaN            1           no  \n",
       "1                C          C       85.0            1           no  \n",
       "2                S        NaN        NaN            0          yes  \n",
       "3                S          C      123.0            1           no  \n",
       "4                S        NaN        NaN            0          yes  \n",
       "5                Q        NaN        NaN            0          yes  \n",
       "6                S          E       46.0            0          yes  \n",
       "7                S        NaN        NaN            4           no  \n",
       "8                S        NaN        NaN            2           no  \n",
       "9                C        NaN        NaN            1           no  "
      ]
     },
     "execution_count": 19,
     "metadata": {},
     "output_type": "execute_result"
    }
   ],
   "source": [
    "# Conferindo nosso conjunto de dados para o formato da tabela\n",
    "df.head(10)"
   ]
  },
  {
   "cell_type": "markdown",
   "metadata": {},
   "source": [
    "Vamos então criar um arquivo com as edições para futuras utilizações."
   ]
  },
  {
   "cell_type": "code",
   "execution_count": 20,
   "metadata": {},
   "outputs": [],
   "source": [
    "# Criando o conjunto de dados\n",
    "df.to_csv('DataSet/titanic_edited.csv', index=False)"
   ]
  },
  {
   "cell_type": "markdown",
   "metadata": {},
   "source": [
    "### Explorar - EDA"
   ]
  },
  {
   "cell_type": "markdown",
   "metadata": {},
   "source": [
    "Nessa etapa vamos começar a explorar os dados para entender as relacões que podem existir entre eles, além de deixá-los mais propensos a trazer as repostas para as perguntas geradas.\n",
    "\n",
    "Primeiro, vamos analisar a ocorrência de algum valor outlier."
   ]
  },
  {
   "cell_type": "code",
   "execution_count": 21,
   "metadata": {},
   "outputs": [
    {
     "data": {
      "text/html": [
       "<div>\n",
       "<style scoped>\n",
       "    .dataframe tbody tr th:only-of-type {\n",
       "        vertical-align: middle;\n",
       "    }\n",
       "\n",
       "    .dataframe tbody tr th {\n",
       "        vertical-align: top;\n",
       "    }\n",
       "\n",
       "    .dataframe thead th {\n",
       "        text-align: right;\n",
       "    }\n",
       "</style>\n",
       "<table border=\"1\" class=\"dataframe\">\n",
       "  <thead>\n",
       "    <tr style=\"text-align: right;\">\n",
       "      <th></th>\n",
       "      <th>passenger_id</th>\n",
       "      <th>passenger_class</th>\n",
       "      <th>age</th>\n",
       "      <th>sibling_spouse</th>\n",
       "      <th>parent_children</th>\n",
       "      <th>fare</th>\n",
       "      <th>cabin_num</th>\n",
       "      <th>family_size</th>\n",
       "    </tr>\n",
       "  </thead>\n",
       "  <tbody>\n",
       "    <tr>\n",
       "      <th>count</th>\n",
       "      <td>891.000000</td>\n",
       "      <td>891.000000</td>\n",
       "      <td>891.000000</td>\n",
       "      <td>891.000000</td>\n",
       "      <td>891.000000</td>\n",
       "      <td>891.000000</td>\n",
       "      <td>200.00000</td>\n",
       "      <td>891.000000</td>\n",
       "    </tr>\n",
       "    <tr>\n",
       "      <th>mean</th>\n",
       "      <td>446.000000</td>\n",
       "      <td>2.308642</td>\n",
       "      <td>29.699118</td>\n",
       "      <td>0.523008</td>\n",
       "      <td>0.381594</td>\n",
       "      <td>32.204208</td>\n",
       "      <td>50.49000</td>\n",
       "      <td>0.904602</td>\n",
       "    </tr>\n",
       "    <tr>\n",
       "      <th>std</th>\n",
       "      <td>257.353842</td>\n",
       "      <td>0.836071</td>\n",
       "      <td>13.002015</td>\n",
       "      <td>1.102743</td>\n",
       "      <td>0.806057</td>\n",
       "      <td>49.693429</td>\n",
       "      <td>35.39497</td>\n",
       "      <td>1.613459</td>\n",
       "    </tr>\n",
       "    <tr>\n",
       "      <th>min</th>\n",
       "      <td>1.000000</td>\n",
       "      <td>1.000000</td>\n",
       "      <td>0.420000</td>\n",
       "      <td>0.000000</td>\n",
       "      <td>0.000000</td>\n",
       "      <td>0.000000</td>\n",
       "      <td>2.00000</td>\n",
       "      <td>0.000000</td>\n",
       "    </tr>\n",
       "    <tr>\n",
       "      <th>25%</th>\n",
       "      <td>223.500000</td>\n",
       "      <td>2.000000</td>\n",
       "      <td>22.000000</td>\n",
       "      <td>0.000000</td>\n",
       "      <td>0.000000</td>\n",
       "      <td>7.910400</td>\n",
       "      <td>22.00000</td>\n",
       "      <td>0.000000</td>\n",
       "    </tr>\n",
       "    <tr>\n",
       "      <th>50%</th>\n",
       "      <td>446.000000</td>\n",
       "      <td>3.000000</td>\n",
       "      <td>29.699118</td>\n",
       "      <td>0.000000</td>\n",
       "      <td>0.000000</td>\n",
       "      <td>14.454200</td>\n",
       "      <td>43.00000</td>\n",
       "      <td>0.000000</td>\n",
       "    </tr>\n",
       "    <tr>\n",
       "      <th>75%</th>\n",
       "      <td>668.500000</td>\n",
       "      <td>3.000000</td>\n",
       "      <td>35.000000</td>\n",
       "      <td>1.000000</td>\n",
       "      <td>0.000000</td>\n",
       "      <td>31.000000</td>\n",
       "      <td>77.25000</td>\n",
       "      <td>1.000000</td>\n",
       "    </tr>\n",
       "    <tr>\n",
       "      <th>max</th>\n",
       "      <td>891.000000</td>\n",
       "      <td>3.000000</td>\n",
       "      <td>80.000000</td>\n",
       "      <td>8.000000</td>\n",
       "      <td>6.000000</td>\n",
       "      <td>512.329200</td>\n",
       "      <td>148.00000</td>\n",
       "      <td>10.000000</td>\n",
       "    </tr>\n",
       "  </tbody>\n",
       "</table>\n",
       "</div>"
      ],
      "text/plain": [
       "       passenger_id  passenger_class         age  sibling_spouse  \\\n",
       "count    891.000000       891.000000  891.000000      891.000000   \n",
       "mean     446.000000         2.308642   29.699118        0.523008   \n",
       "std      257.353842         0.836071   13.002015        1.102743   \n",
       "min        1.000000         1.000000    0.420000        0.000000   \n",
       "25%      223.500000         2.000000   22.000000        0.000000   \n",
       "50%      446.000000         3.000000   29.699118        0.000000   \n",
       "75%      668.500000         3.000000   35.000000        1.000000   \n",
       "max      891.000000         3.000000   80.000000        8.000000   \n",
       "\n",
       "       parent_children        fare  cabin_num  family_size  \n",
       "count       891.000000  891.000000  200.00000   891.000000  \n",
       "mean          0.381594   32.204208   50.49000     0.904602  \n",
       "std           0.806057   49.693429   35.39497     1.613459  \n",
       "min           0.000000    0.000000    2.00000     0.000000  \n",
       "25%           0.000000    7.910400   22.00000     0.000000  \n",
       "50%           0.000000   14.454200   43.00000     0.000000  \n",
       "75%           0.000000   31.000000   77.25000     1.000000  \n",
       "max           6.000000  512.329200  148.00000    10.000000  "
      ]
     },
     "execution_count": 21,
     "metadata": {},
     "output_type": "execute_result"
    }
   ],
   "source": [
    "df.describe()"
   ]
  },
  {
   "cell_type": "markdown",
   "metadata": {},
   "source": [
    "Os valores de \"siblings_spouse\", \"parent_children\" e \"fare\" merecem um pouco de atenção.\n",
    "\n",
    "O valor máximo está muito acima da média, mesmo se considerarmos o desvio padrão. Em realidade, o valor máximo está muito acima do 75 percentil.\n",
    "\n",
    "Primeiro vamos analisar a tarifa. É possível que o valor máximo seja bem maior por ser uma passagem da primeira classe e a minoria do público viajava nessa classe. Se olharmos a coluna \"passenger_class\" percebemos que menos de 25% dos passageiros analisados viajaram na primeira classe.\n",
    "\n",
    "Vamos analisar os valores das tarifas agrupados por classe para avaliar."
   ]
  },
  {
   "cell_type": "code",
   "execution_count": 22,
   "metadata": {},
   "outputs": [
    {
     "data": {
      "text/html": [
       "<div>\n",
       "<style scoped>\n",
       "    .dataframe tbody tr th:only-of-type {\n",
       "        vertical-align: middle;\n",
       "    }\n",
       "\n",
       "    .dataframe tbody tr th {\n",
       "        vertical-align: top;\n",
       "    }\n",
       "\n",
       "    .dataframe thead th {\n",
       "        text-align: right;\n",
       "    }\n",
       "</style>\n",
       "<table border=\"1\" class=\"dataframe\">\n",
       "  <thead>\n",
       "    <tr style=\"text-align: right;\">\n",
       "      <th></th>\n",
       "      <th>count</th>\n",
       "      <th>mean</th>\n",
       "      <th>std</th>\n",
       "      <th>min</th>\n",
       "      <th>25%</th>\n",
       "      <th>50%</th>\n",
       "      <th>75%</th>\n",
       "      <th>max</th>\n",
       "    </tr>\n",
       "    <tr>\n",
       "      <th>passenger_class</th>\n",
       "      <th></th>\n",
       "      <th></th>\n",
       "      <th></th>\n",
       "      <th></th>\n",
       "      <th></th>\n",
       "      <th></th>\n",
       "      <th></th>\n",
       "      <th></th>\n",
       "    </tr>\n",
       "  </thead>\n",
       "  <tbody>\n",
       "    <tr>\n",
       "      <th>1</th>\n",
       "      <td>216.0</td>\n",
       "      <td>84.154687</td>\n",
       "      <td>78.380373</td>\n",
       "      <td>0.0</td>\n",
       "      <td>30.92395</td>\n",
       "      <td>60.2875</td>\n",
       "      <td>93.5</td>\n",
       "      <td>512.3292</td>\n",
       "    </tr>\n",
       "    <tr>\n",
       "      <th>2</th>\n",
       "      <td>184.0</td>\n",
       "      <td>20.662183</td>\n",
       "      <td>13.417399</td>\n",
       "      <td>0.0</td>\n",
       "      <td>13.00000</td>\n",
       "      <td>14.2500</td>\n",
       "      <td>26.0</td>\n",
       "      <td>73.5000</td>\n",
       "    </tr>\n",
       "    <tr>\n",
       "      <th>3</th>\n",
       "      <td>491.0</td>\n",
       "      <td>13.675550</td>\n",
       "      <td>11.778142</td>\n",
       "      <td>0.0</td>\n",
       "      <td>7.75000</td>\n",
       "      <td>8.0500</td>\n",
       "      <td>15.5</td>\n",
       "      <td>69.5500</td>\n",
       "    </tr>\n",
       "  </tbody>\n",
       "</table>\n",
       "</div>"
      ],
      "text/plain": [
       "                 count       mean        std  min       25%      50%   75%  \\\n",
       "passenger_class                                                              \n",
       "1                216.0  84.154687  78.380373  0.0  30.92395  60.2875  93.5   \n",
       "2                184.0  20.662183  13.417399  0.0  13.00000  14.2500  26.0   \n",
       "3                491.0  13.675550  11.778142  0.0   7.75000   8.0500  15.5   \n",
       "\n",
       "                      max  \n",
       "passenger_class            \n",
       "1                512.3292  \n",
       "2                 73.5000  \n",
       "3                 69.5500  "
      ]
     },
     "execution_count": 22,
     "metadata": {},
     "output_type": "execute_result"
    }
   ],
   "source": [
    "df.groupby('passenger_class')['fare'].describe()"
   ]
  },
  {
   "cell_type": "markdown",
   "metadata": {},
   "source": [
    "É possível notar uma enorme variação no valor da passagem em todas as classes, inclusive tendo todas as classes o valor minimo como zero.\n",
    "\n",
    "Considerando dessa forma, a grande variação em todas as classes sugere que o valor máximo discrepante seria algo normal e não um problema com os dados. No evento de utilizar essa informação, devemos ter em mente a grande variação desses valores.\n",
    "\n",
    "As outras colunas que mostraram possíveis outliers foram as colunas relacionadas aos acompanhantes.\n",
    "\n",
    "Vamos exibir essas colunas para avaliar se os valores máximos são possíveis problemas nos dados. "
   ]
  },
  {
   "cell_type": "code",
   "execution_count": 23,
   "metadata": {},
   "outputs": [
    {
     "data": {
      "text/html": [
       "<div>\n",
       "<style scoped>\n",
       "    .dataframe tbody tr th:only-of-type {\n",
       "        vertical-align: middle;\n",
       "    }\n",
       "\n",
       "    .dataframe tbody tr th {\n",
       "        vertical-align: top;\n",
       "    }\n",
       "\n",
       "    .dataframe thead th {\n",
       "        text-align: right;\n",
       "    }\n",
       "</style>\n",
       "<table border=\"1\" class=\"dataframe\">\n",
       "  <thead>\n",
       "    <tr style=\"text-align: right;\">\n",
       "      <th></th>\n",
       "      <th>name</th>\n",
       "      <th>sibling_spouse</th>\n",
       "      <th>parent_children</th>\n",
       "      <th>ticket_id</th>\n",
       "    </tr>\n",
       "  </thead>\n",
       "  <tbody>\n",
       "    <tr>\n",
       "      <th>159</th>\n",
       "      <td>Sage, Master. Thomas Henry</td>\n",
       "      <td>8</td>\n",
       "      <td>2</td>\n",
       "      <td>CA. 2343</td>\n",
       "    </tr>\n",
       "    <tr>\n",
       "      <th>180</th>\n",
       "      <td>Sage, Miss. Constance Gladys</td>\n",
       "      <td>8</td>\n",
       "      <td>2</td>\n",
       "      <td>CA. 2343</td>\n",
       "    </tr>\n",
       "    <tr>\n",
       "      <th>201</th>\n",
       "      <td>Sage, Mr. Frederick</td>\n",
       "      <td>8</td>\n",
       "      <td>2</td>\n",
       "      <td>CA. 2343</td>\n",
       "    </tr>\n",
       "    <tr>\n",
       "      <th>792</th>\n",
       "      <td>Sage, Miss. Stella Anna</td>\n",
       "      <td>8</td>\n",
       "      <td>2</td>\n",
       "      <td>CA. 2343</td>\n",
       "    </tr>\n",
       "    <tr>\n",
       "      <th>846</th>\n",
       "      <td>Sage, Mr. Douglas Bullen</td>\n",
       "      <td>8</td>\n",
       "      <td>2</td>\n",
       "      <td>CA. 2343</td>\n",
       "    </tr>\n",
       "    <tr>\n",
       "      <th>863</th>\n",
       "      <td>Sage, Miss. Dorothy Edith \"Dolly\"</td>\n",
       "      <td>8</td>\n",
       "      <td>2</td>\n",
       "      <td>CA. 2343</td>\n",
       "    </tr>\n",
       "    <tr>\n",
       "      <th>324</th>\n",
       "      <td>Sage, Mr. George John Jr</td>\n",
       "      <td>8</td>\n",
       "      <td>2</td>\n",
       "      <td>CA. 2343</td>\n",
       "    </tr>\n",
       "    <tr>\n",
       "      <th>59</th>\n",
       "      <td>Goodwin, Master. William Frederick</td>\n",
       "      <td>5</td>\n",
       "      <td>2</td>\n",
       "      <td>CA 2144</td>\n",
       "    </tr>\n",
       "    <tr>\n",
       "      <th>71</th>\n",
       "      <td>Goodwin, Miss. Lillian Amy</td>\n",
       "      <td>5</td>\n",
       "      <td>2</td>\n",
       "      <td>CA 2144</td>\n",
       "    </tr>\n",
       "    <tr>\n",
       "      <th>386</th>\n",
       "      <td>Goodwin, Master. Sidney Leonard</td>\n",
       "      <td>5</td>\n",
       "      <td>2</td>\n",
       "      <td>CA 2144</td>\n",
       "    </tr>\n",
       "  </tbody>\n",
       "</table>\n",
       "</div>"
      ],
      "text/plain": [
       "                                   name  sibling_spouse  parent_children  \\\n",
       "159          Sage, Master. Thomas Henry               8                2   \n",
       "180        Sage, Miss. Constance Gladys               8                2   \n",
       "201                 Sage, Mr. Frederick               8                2   \n",
       "792             Sage, Miss. Stella Anna               8                2   \n",
       "846            Sage, Mr. Douglas Bullen               8                2   \n",
       "863   Sage, Miss. Dorothy Edith \"Dolly\"               8                2   \n",
       "324            Sage, Mr. George John Jr               8                2   \n",
       "59   Goodwin, Master. William Frederick               5                2   \n",
       "71           Goodwin, Miss. Lillian Amy               5                2   \n",
       "386     Goodwin, Master. Sidney Leonard               5                2   \n",
       "\n",
       "    ticket_id  \n",
       "159  CA. 2343  \n",
       "180  CA. 2343  \n",
       "201  CA. 2343  \n",
       "792  CA. 2343  \n",
       "846  CA. 2343  \n",
       "863  CA. 2343  \n",
       "324  CA. 2343  \n",
       "59    CA 2144  \n",
       "71    CA 2144  \n",
       "386   CA 2144  "
      ]
     },
     "execution_count": 23,
     "metadata": {},
     "output_type": "execute_result"
    }
   ],
   "source": [
    "# criando um índice para ver apenas as colunas interessantes para análise\n",
    "index = np.r_[3, 6:9]\n",
    "\n",
    "# Exibindo as informações das colunas ordenadas pela coluna \"siblings_spouse\"\n",
    "df.iloc[:,index].sort_values('sibling_spouse', ascending=False).head(10)"
   ]
  },
  {
   "cell_type": "markdown",
   "metadata": {},
   "source": [
    "Analisando o resultado podemos considerar que os dados são consistentes. Temos dados de sete viajantes que estavam com oito irmãos ou conjuges. Além disso, os sobrenomes são iguais e a identificação da passagem sugere que foram compradas juntos.\n",
    "\n",
    "Vamos executar a mesma análise para a coluna dos pais ou filhos."
   ]
  },
  {
   "cell_type": "code",
   "execution_count": 24,
   "metadata": {},
   "outputs": [
    {
     "data": {
      "text/html": [
       "<div>\n",
       "<style scoped>\n",
       "    .dataframe tbody tr th:only-of-type {\n",
       "        vertical-align: middle;\n",
       "    }\n",
       "\n",
       "    .dataframe tbody tr th {\n",
       "        vertical-align: top;\n",
       "    }\n",
       "\n",
       "    .dataframe thead th {\n",
       "        text-align: right;\n",
       "    }\n",
       "</style>\n",
       "<table border=\"1\" class=\"dataframe\">\n",
       "  <thead>\n",
       "    <tr style=\"text-align: right;\">\n",
       "      <th></th>\n",
       "      <th>name</th>\n",
       "      <th>sibling_spouse</th>\n",
       "      <th>parent_children</th>\n",
       "      <th>ticket_id</th>\n",
       "    </tr>\n",
       "  </thead>\n",
       "  <tbody>\n",
       "    <tr>\n",
       "      <th>678</th>\n",
       "      <td>Goodwin, Mrs. Frederick (Augusta Tyler)</td>\n",
       "      <td>1</td>\n",
       "      <td>6</td>\n",
       "      <td>CA 2144</td>\n",
       "    </tr>\n",
       "    <tr>\n",
       "      <th>638</th>\n",
       "      <td>Panula, Mrs. Juha (Maria Emilia Ojala)</td>\n",
       "      <td>0</td>\n",
       "      <td>5</td>\n",
       "      <td>3101295</td>\n",
       "    </tr>\n",
       "    <tr>\n",
       "      <th>885</th>\n",
       "      <td>Rice, Mrs. William (Margaret Norton)</td>\n",
       "      <td>0</td>\n",
       "      <td>5</td>\n",
       "      <td>382652</td>\n",
       "    </tr>\n",
       "    <tr>\n",
       "      <th>610</th>\n",
       "      <td>Andersson, Mrs. Anders Johan (Alfrida Konstant...</td>\n",
       "      <td>1</td>\n",
       "      <td>5</td>\n",
       "      <td>347082</td>\n",
       "    </tr>\n",
       "    <tr>\n",
       "      <th>25</th>\n",
       "      <td>Asplund, Mrs. Carl Oscar (Selma Augusta Emilia...</td>\n",
       "      <td>1</td>\n",
       "      <td>5</td>\n",
       "      <td>347077</td>\n",
       "    </tr>\n",
       "    <tr>\n",
       "      <th>13</th>\n",
       "      <td>Andersson, Mr. Anders Johan</td>\n",
       "      <td>1</td>\n",
       "      <td>5</td>\n",
       "      <td>347082</td>\n",
       "    </tr>\n",
       "    <tr>\n",
       "      <th>438</th>\n",
       "      <td>Fortune, Mr. Mark</td>\n",
       "      <td>1</td>\n",
       "      <td>4</td>\n",
       "      <td>19950</td>\n",
       "    </tr>\n",
       "    <tr>\n",
       "      <th>360</th>\n",
       "      <td>Skoog, Mr. Wilhelm</td>\n",
       "      <td>1</td>\n",
       "      <td>4</td>\n",
       "      <td>347088</td>\n",
       "    </tr>\n",
       "    <tr>\n",
       "      <th>167</th>\n",
       "      <td>Skoog, Mrs. William (Anna Bernhardina Karlsson)</td>\n",
       "      <td>1</td>\n",
       "      <td>4</td>\n",
       "      <td>347088</td>\n",
       "    </tr>\n",
       "    <tr>\n",
       "      <th>567</th>\n",
       "      <td>Palsson, Mrs. Nils (Alma Cornelia Berglund)</td>\n",
       "      <td>0</td>\n",
       "      <td>4</td>\n",
       "      <td>349909</td>\n",
       "    </tr>\n",
       "  </tbody>\n",
       "</table>\n",
       "</div>"
      ],
      "text/plain": [
       "                                                  name  sibling_spouse  \\\n",
       "678            Goodwin, Mrs. Frederick (Augusta Tyler)               1   \n",
       "638             Panula, Mrs. Juha (Maria Emilia Ojala)               0   \n",
       "885               Rice, Mrs. William (Margaret Norton)               0   \n",
       "610  Andersson, Mrs. Anders Johan (Alfrida Konstant...               1   \n",
       "25   Asplund, Mrs. Carl Oscar (Selma Augusta Emilia...               1   \n",
       "13                         Andersson, Mr. Anders Johan               1   \n",
       "438                                  Fortune, Mr. Mark               1   \n",
       "360                                 Skoog, Mr. Wilhelm               1   \n",
       "167    Skoog, Mrs. William (Anna Bernhardina Karlsson)               1   \n",
       "567        Palsson, Mrs. Nils (Alma Cornelia Berglund)               0   \n",
       "\n",
       "     parent_children ticket_id  \n",
       "678                6   CA 2144  \n",
       "638                5   3101295  \n",
       "885                5    382652  \n",
       "610                5    347082  \n",
       "25                 5    347077  \n",
       "13                 5    347082  \n",
       "438                4     19950  \n",
       "360                4    347088  \n",
       "167                4    347088  \n",
       "567                4    349909  "
      ]
     },
     "execution_count": 24,
     "metadata": {},
     "output_type": "execute_result"
    }
   ],
   "source": [
    "# Exibindo as informações das colunas ordenadas pela coluna \"parent_children\"\n",
    "df.iloc[:,index].sort_values('parent_children', ascending=False).head(10)"
   ]
  },
  {
   "cell_type": "code",
   "execution_count": 25,
   "metadata": {},
   "outputs": [
    {
     "data": {
      "text/html": [
       "<div>\n",
       "<style scoped>\n",
       "    .dataframe tbody tr th:only-of-type {\n",
       "        vertical-align: middle;\n",
       "    }\n",
       "\n",
       "    .dataframe tbody tr th {\n",
       "        vertical-align: top;\n",
       "    }\n",
       "\n",
       "    .dataframe thead th {\n",
       "        text-align: right;\n",
       "    }\n",
       "</style>\n",
       "<table border=\"1\" class=\"dataframe\">\n",
       "  <thead>\n",
       "    <tr style=\"text-align: right;\">\n",
       "      <th></th>\n",
       "      <th>passenger_id</th>\n",
       "      <th>survived</th>\n",
       "      <th>passenger_class</th>\n",
       "      <th>name</th>\n",
       "      <th>sex</th>\n",
       "      <th>age</th>\n",
       "      <th>sibling_spouse</th>\n",
       "      <th>parent_children</th>\n",
       "      <th>ticket_id</th>\n",
       "      <th>fare</th>\n",
       "      <th>port_embarkation</th>\n",
       "      <th>cabin_deck</th>\n",
       "      <th>cabin_num</th>\n",
       "      <th>family_size</th>\n",
       "      <th>travel_alone</th>\n",
       "    </tr>\n",
       "  </thead>\n",
       "  <tbody>\n",
       "    <tr>\n",
       "      <th>59</th>\n",
       "      <td>60</td>\n",
       "      <td>no</td>\n",
       "      <td>3</td>\n",
       "      <td>Goodwin, Master. William Frederick</td>\n",
       "      <td>male</td>\n",
       "      <td>11.0</td>\n",
       "      <td>5</td>\n",
       "      <td>2</td>\n",
       "      <td>CA 2144</td>\n",
       "      <td>46.9</td>\n",
       "      <td>S</td>\n",
       "      <td>NaN</td>\n",
       "      <td>NaN</td>\n",
       "      <td>7</td>\n",
       "      <td>no</td>\n",
       "    </tr>\n",
       "    <tr>\n",
       "      <th>71</th>\n",
       "      <td>72</td>\n",
       "      <td>no</td>\n",
       "      <td>3</td>\n",
       "      <td>Goodwin, Miss. Lillian Amy</td>\n",
       "      <td>female</td>\n",
       "      <td>16.0</td>\n",
       "      <td>5</td>\n",
       "      <td>2</td>\n",
       "      <td>CA 2144</td>\n",
       "      <td>46.9</td>\n",
       "      <td>S</td>\n",
       "      <td>NaN</td>\n",
       "      <td>NaN</td>\n",
       "      <td>7</td>\n",
       "      <td>no</td>\n",
       "    </tr>\n",
       "    <tr>\n",
       "      <th>386</th>\n",
       "      <td>387</td>\n",
       "      <td>no</td>\n",
       "      <td>3</td>\n",
       "      <td>Goodwin, Master. Sidney Leonard</td>\n",
       "      <td>male</td>\n",
       "      <td>1.0</td>\n",
       "      <td>5</td>\n",
       "      <td>2</td>\n",
       "      <td>CA 2144</td>\n",
       "      <td>46.9</td>\n",
       "      <td>S</td>\n",
       "      <td>NaN</td>\n",
       "      <td>NaN</td>\n",
       "      <td>7</td>\n",
       "      <td>no</td>\n",
       "    </tr>\n",
       "    <tr>\n",
       "      <th>480</th>\n",
       "      <td>481</td>\n",
       "      <td>no</td>\n",
       "      <td>3</td>\n",
       "      <td>Goodwin, Master. Harold Victor</td>\n",
       "      <td>male</td>\n",
       "      <td>9.0</td>\n",
       "      <td>5</td>\n",
       "      <td>2</td>\n",
       "      <td>CA 2144</td>\n",
       "      <td>46.9</td>\n",
       "      <td>S</td>\n",
       "      <td>NaN</td>\n",
       "      <td>NaN</td>\n",
       "      <td>7</td>\n",
       "      <td>no</td>\n",
       "    </tr>\n",
       "    <tr>\n",
       "      <th>678</th>\n",
       "      <td>679</td>\n",
       "      <td>no</td>\n",
       "      <td>3</td>\n",
       "      <td>Goodwin, Mrs. Frederick (Augusta Tyler)</td>\n",
       "      <td>female</td>\n",
       "      <td>43.0</td>\n",
       "      <td>1</td>\n",
       "      <td>6</td>\n",
       "      <td>CA 2144</td>\n",
       "      <td>46.9</td>\n",
       "      <td>S</td>\n",
       "      <td>NaN</td>\n",
       "      <td>NaN</td>\n",
       "      <td>7</td>\n",
       "      <td>no</td>\n",
       "    </tr>\n",
       "    <tr>\n",
       "      <th>683</th>\n",
       "      <td>684</td>\n",
       "      <td>no</td>\n",
       "      <td>3</td>\n",
       "      <td>Goodwin, Mr. Charles Edward</td>\n",
       "      <td>male</td>\n",
       "      <td>14.0</td>\n",
       "      <td>5</td>\n",
       "      <td>2</td>\n",
       "      <td>CA 2144</td>\n",
       "      <td>46.9</td>\n",
       "      <td>S</td>\n",
       "      <td>NaN</td>\n",
       "      <td>NaN</td>\n",
       "      <td>7</td>\n",
       "      <td>no</td>\n",
       "    </tr>\n",
       "  </tbody>\n",
       "</table>\n",
       "</div>"
      ],
      "text/plain": [
       "     passenger_id survived  passenger_class  \\\n",
       "59             60       no                3   \n",
       "71             72       no                3   \n",
       "386           387       no                3   \n",
       "480           481       no                3   \n",
       "678           679       no                3   \n",
       "683           684       no                3   \n",
       "\n",
       "                                        name     sex   age  sibling_spouse  \\\n",
       "59        Goodwin, Master. William Frederick    male  11.0               5   \n",
       "71                Goodwin, Miss. Lillian Amy  female  16.0               5   \n",
       "386          Goodwin, Master. Sidney Leonard    male   1.0               5   \n",
       "480           Goodwin, Master. Harold Victor    male   9.0               5   \n",
       "678  Goodwin, Mrs. Frederick (Augusta Tyler)  female  43.0               1   \n",
       "683              Goodwin, Mr. Charles Edward    male  14.0               5   \n",
       "\n",
       "     parent_children ticket_id  fare port_embarkation cabin_deck  cabin_num  \\\n",
       "59                 2   CA 2144  46.9                S        NaN        NaN   \n",
       "71                 2   CA 2144  46.9                S        NaN        NaN   \n",
       "386                2   CA 2144  46.9                S        NaN        NaN   \n",
       "480                2   CA 2144  46.9                S        NaN        NaN   \n",
       "678                6   CA 2144  46.9                S        NaN        NaN   \n",
       "683                2   CA 2144  46.9                S        NaN        NaN   \n",
       "\n",
       "     family_size travel_alone  \n",
       "59             7           no  \n",
       "71             7           no  \n",
       "386            7           no  \n",
       "480            7           no  \n",
       "678            7           no  \n",
       "683            7           no  "
      ]
     },
     "execution_count": 25,
     "metadata": {},
     "output_type": "execute_result"
    }
   ],
   "source": [
    "# Exibindo a informação da família \"Goodwin\"\n",
    "df[df['name'].str.contains('Goodwin')]"
   ]
  },
  {
   "cell_type": "markdown",
   "metadata": {},
   "source": [
    "Novamente, a análise dos dados não indicam problema com o valor máximo. Primeiramente por não ter grandes diferencas entre os outros maiores valores e depois porque temos as informações de cinco dos seis filhos.\n",
    "\n",
    "Agora vamos analisar os dados que estamos propensos a utilizar para responder nossas perguntas: gênero e identificação da cabine."
   ]
  },
  {
   "cell_type": "code",
   "execution_count": 26,
   "metadata": {},
   "outputs": [
    {
     "data": {
      "image/png": "[encoded data removed]",
      "text/plain": [
       "<Figure size 864x576 with 1 Axes>"
      ]
     },
     "metadata": {
      "needs_background": "light"
     },
     "output_type": "display_data"
    }
   ],
   "source": [
    "# Plotando os dados com base no gênero dos passageiros\n",
    "df1 = df['sex'].value_counts().plot(kind='bar', figsize=(12,8), fontsize=12, rot='horizontal', color=['blue','red'])\n",
    "df1.set_xlabel('Gênero', fontsize=15)\n",
    "df1.set_ylabel('Número de Passageiros', fontsize=15);\n",
    "df1.set_title('Contagem de sobreviventes por gênero', fontsize=20);\n"
   ]
  },
  {
   "cell_type": "markdown",
   "metadata": {},
   "source": [
    "Do gráfico acima, podemos ver que, por conta da diferença no número de homens e mulheres, precisamos ter cuidado quando analisarmos com base no gênero. É possível que tenhamos o resultado de mais homens terem sobrevivido, porém isso pode ser resultado do número absoluto de indivíduos ser maior."
   ]
  },
  {
   "cell_type": "code",
   "execution_count": 27,
   "metadata": {},
   "outputs": [
    {
     "data": {
      "text/html": [
       "<div>\n",
       "<style scoped>\n",
       "    .dataframe tbody tr th:only-of-type {\n",
       "        vertical-align: middle;\n",
       "    }\n",
       "\n",
       "    .dataframe tbody tr th {\n",
       "        vertical-align: top;\n",
       "    }\n",
       "\n",
       "    .dataframe thead th {\n",
       "        text-align: right;\n",
       "    }\n",
       "</style>\n",
       "<table border=\"1\" class=\"dataframe\">\n",
       "  <thead>\n",
       "    <tr style=\"text-align: right;\">\n",
       "      <th></th>\n",
       "      <th>passenger_id</th>\n",
       "      <th>passenger_class</th>\n",
       "      <th>age</th>\n",
       "      <th>sibling_spouse</th>\n",
       "      <th>parent_children</th>\n",
       "      <th>fare</th>\n",
       "      <th>cabin_num</th>\n",
       "      <th>family_size</th>\n",
       "    </tr>\n",
       "  </thead>\n",
       "  <tbody>\n",
       "    <tr>\n",
       "      <th>passenger_id</th>\n",
       "      <td>1.000000</td>\n",
       "      <td>-0.035144</td>\n",
       "      <td>0.033207</td>\n",
       "      <td>-0.057527</td>\n",
       "      <td>-0.001652</td>\n",
       "      <td>0.012658</td>\n",
       "      <td>0.035941</td>\n",
       "      <td>-0.040143</td>\n",
       "    </tr>\n",
       "    <tr>\n",
       "      <th>passenger_class</th>\n",
       "      <td>-0.035144</td>\n",
       "      <td>1.000000</td>\n",
       "      <td>-0.331339</td>\n",
       "      <td>0.083081</td>\n",
       "      <td>0.018443</td>\n",
       "      <td>-0.549500</td>\n",
       "      <td>-0.036776</td>\n",
       "      <td>0.065997</td>\n",
       "    </tr>\n",
       "    <tr>\n",
       "      <th>age</th>\n",
       "      <td>0.033207</td>\n",
       "      <td>-0.331339</td>\n",
       "      <td>1.000000</td>\n",
       "      <td>-0.232625</td>\n",
       "      <td>-0.179191</td>\n",
       "      <td>0.091566</td>\n",
       "      <td>0.040097</td>\n",
       "      <td>-0.248512</td>\n",
       "    </tr>\n",
       "    <tr>\n",
       "      <th>sibling_spouse</th>\n",
       "      <td>-0.057527</td>\n",
       "      <td>0.083081</td>\n",
       "      <td>-0.232625</td>\n",
       "      <td>1.000000</td>\n",
       "      <td>0.414838</td>\n",
       "      <td>0.159651</td>\n",
       "      <td>-0.064264</td>\n",
       "      <td>0.890712</td>\n",
       "    </tr>\n",
       "    <tr>\n",
       "      <th>parent_children</th>\n",
       "      <td>-0.001652</td>\n",
       "      <td>0.018443</td>\n",
       "      <td>-0.179191</td>\n",
       "      <td>0.414838</td>\n",
       "      <td>1.000000</td>\n",
       "      <td>0.216225</td>\n",
       "      <td>-0.117619</td>\n",
       "      <td>0.783111</td>\n",
       "    </tr>\n",
       "    <tr>\n",
       "      <th>fare</th>\n",
       "      <td>0.012658</td>\n",
       "      <td>-0.549500</td>\n",
       "      <td>0.091566</td>\n",
       "      <td>0.159651</td>\n",
       "      <td>0.216225</td>\n",
       "      <td>1.000000</td>\n",
       "      <td>0.052416</td>\n",
       "      <td>0.217138</td>\n",
       "    </tr>\n",
       "    <tr>\n",
       "      <th>cabin_num</th>\n",
       "      <td>0.035941</td>\n",
       "      <td>-0.036776</td>\n",
       "      <td>0.040097</td>\n",
       "      <td>-0.064264</td>\n",
       "      <td>-0.117619</td>\n",
       "      <td>0.052416</td>\n",
       "      <td>1.000000</td>\n",
       "      <td>-0.116942</td>\n",
       "    </tr>\n",
       "    <tr>\n",
       "      <th>family_size</th>\n",
       "      <td>-0.040143</td>\n",
       "      <td>0.065997</td>\n",
       "      <td>-0.248512</td>\n",
       "      <td>0.890712</td>\n",
       "      <td>0.783111</td>\n",
       "      <td>0.217138</td>\n",
       "      <td>-0.116942</td>\n",
       "      <td>1.000000</td>\n",
       "    </tr>\n",
       "  </tbody>\n",
       "</table>\n",
       "</div>"
      ],
      "text/plain": [
       "                 passenger_id  passenger_class       age  sibling_spouse  \\\n",
       "passenger_id         1.000000        -0.035144  0.033207       -0.057527   \n",
       "passenger_class     -0.035144         1.000000 -0.331339        0.083081   \n",
       "age                  0.033207        -0.331339  1.000000       -0.232625   \n",
       "sibling_spouse      -0.057527         0.083081 -0.232625        1.000000   \n",
       "parent_children     -0.001652         0.018443 -0.179191        0.414838   \n",
       "fare                 0.012658        -0.549500  0.091566        0.159651   \n",
       "cabin_num            0.035941        -0.036776  0.040097       -0.064264   \n",
       "family_size         -0.040143         0.065997 -0.248512        0.890712   \n",
       "\n",
       "                 parent_children      fare  cabin_num  family_size  \n",
       "passenger_id           -0.001652  0.012658   0.035941    -0.040143  \n",
       "passenger_class         0.018443 -0.549500  -0.036776     0.065997  \n",
       "age                    -0.179191  0.091566   0.040097    -0.248512  \n",
       "sibling_spouse          0.414838  0.159651  -0.064264     0.890712  \n",
       "parent_children         1.000000  0.216225  -0.117619     0.783111  \n",
       "fare                    0.216225  1.000000   0.052416     0.217138  \n",
       "cabin_num              -0.117619  0.052416   1.000000    -0.116942  \n",
       "family_size             0.783111  0.217138  -0.116942     1.000000  "
      ]
     },
     "execution_count": 27,
     "metadata": {},
     "output_type": "execute_result"
    }
   ],
   "source": [
    "# Exibindo a matriz de correlacoes do conjunto de dados\n",
    "df.corr()"
   ]
  },
  {
   "cell_type": "markdown",
   "metadata": {},
   "source": [
    "Analisando as correlações gerais do conjunto de dados, é possível notar uma forte correlação negativa entre classe do passageiro e tarifa. Essa conclusão é um tanto óbvia pois quanto menor a classe (1a, 2a, 3a) é maior o preço da passagem.\n",
    "\n",
    "Notamos tambem que existe uma correlação moderada e possitiva entre os valores das colunas \"siblings_spouse\" e \"parent_children\". Isso pode indicar que viagens em família foi comum no Titanic.\n",
    "\n",
    "Há ainda uma correlação moderada e negativa entre a classe de viagem e a idade do passageiro. O que nos leva a supor que teríamos passgeiros mais velhos na primeira classe."
   ]
  },
  {
   "cell_type": "code",
   "execution_count": 28,
   "metadata": {},
   "outputs": [
    {
     "data": {
      "image/png": "[encoded data removed]",
      "text/plain": [
       "<Figure size 720x720 with 1 Axes>"
      ]
     },
     "metadata": {
      "needs_background": "light"
     },
     "output_type": "display_data"
    }
   ],
   "source": [
    "# Exibindo grafico que indica a entre classe da passagem x tarifa:\n",
    "df1 = df.boxplot('fare','passenger_class', figsize=(10,10), fontsize=15)\n",
    "df1.set_xlabel('Classe da Passagem', fontsize=15)\n",
    "df1.set_ylabel('Tarifa', fontsize=15)\n",
    "df1.set_title('Distribuição do Valor da Tarifa por Classe', fontsize=20);"
   ]
  },
  {
   "cell_type": "markdown",
   "metadata": {},
   "source": [
    "A correlação entre classe da passagem e tarifa pode ser percebida pela distribuição acima."
   ]
  },
  {
   "cell_type": "code",
   "execution_count": 29,
   "metadata": {},
   "outputs": [
    {
     "data": {
      "image/png": "[encoded data removed]",
      "text/plain": [
       "<Figure size 864x432 with 1 Axes>"
      ]
     },
     "metadata": {
      "needs_background": "light"
     },
     "output_type": "display_data"
    }
   ],
   "source": [
    "# Exibindo grafico de distribuição:\n",
    "df1 = df.plot(kind='scatter', y='sibling_spouse', x='parent_children', fontsize=15, figsize=(12,6))\n",
    "df1.set_xlabel('Número de pais/filhos', fontsize=15)\n",
    "df1.set_ylabel('Número de irmãos/conjuge', fontsize=15)\n",
    "df1.set_title('Dispersão do Número de irmãos/conjuges x pais/filhos', fontsize=20);"
   ]
  },
  {
   "cell_type": "markdown",
   "metadata": {},
   "source": [
    "Para o caso das colunas com informações dos familiares acompanhados, apesar de mostrar um valor relativamente alto da correlação, a distribuição não mostra uma tendência de aumentar os valores do eixo Y com o aumento dos valores do eixo X."
   ]
  },
  {
   "cell_type": "code",
   "execution_count": 30,
   "metadata": {},
   "outputs": [
    {
     "data": {
      "image/png": "[encoded data removed]",
      "text/plain": [
       "<Figure size 1080x576 with 3 Axes>"
      ]
     },
     "metadata": {
      "needs_background": "light"
     },
     "output_type": "display_data"
    }
   ],
   "source": [
    "# Definindo os valores\n",
    "first_class = df.query('passenger_class == 1')['age']\n",
    "second_class = df.query('passenger_class == 2')['age']\n",
    "third_class = df.query('passenger_class == 3')['age']\n",
    "\n",
    "# Definindo o tamanho do gráfico\n",
    "plt.figure(figsize=(15,8))\n",
    "plt.subplots_adjust(hspace=0.4)\n",
    "\n",
    "# Plotanto o primeiro gráico\n",
    "ax1 = plt.subplot(221)\n",
    "plt.hist(first_class, bins=np.arange(0,81,10), histtype='bar')\n",
    "plt.title('Passageiros Por Idade - 1a Classe', fontsize=18)\n",
    "plt.xlabel('Idade', fontsize=15)\n",
    "plt.ylabel('Número de Passageiros', fontsize=15)\n",
    "plt.xticks(fontsize=10)\n",
    "plt.yticks(fontsize=10)\n",
    "\n",
    "# Plotanto o segundo gráfico\n",
    "ax2 = plt.subplot(222, sharey=ax1)\n",
    "plt.hist(second_class, bins=np.arange(0,81,10), histtype='bar')\n",
    "plt.title('Passageiros Por Idade - 2a Classe', fontsize=18)\n",
    "plt.xlabel('Idade', fontsize=15)\n",
    "plt.ylabel('Número de Passageiros', fontsize=15)\n",
    "plt.xticks(fontsize=10)\n",
    "plt.yticks(fontsize=10)\n",
    "\n",
    "# Plotanto o terceiro gráfico\n",
    "ax3 = plt.subplot(223, sharey=ax1)\n",
    "plt.hist(third_class, bins=np.arange(0,81,10), histtype='bar')\n",
    "plt.title('Passageiros Por Idade - 3a Classe', fontsize=18)\n",
    "plt.xlabel('Idade', fontsize=15)\n",
    "plt.ylabel('Número de Passageiros', fontsize=15)\n",
    "plt.xticks(fontsize=10)\n",
    "plt.yticks(fontsize=10);"
   ]
  },
  {
   "cell_type": "markdown",
   "metadata": {},
   "source": [
    "No caso da idade e classe da passagem, podemos ver que a primeira classe tem o histograma mais deslocado para a direita em relação aos histogramas das outras classes, indicando que os passageiros mais velhos estavam em maior número nessa classe.\n",
    "\n",
    "A terceira classe apresenta um histograma assimétrico para a direita, ou seja, valores maiores de idade apresentam uma frequência bem mais baixa.\n",
    "\n",
    "É importante notar o pico no intervalo de 20 a 30 anos que deve ser influência da alteração que fizemos preenchendo as idades ausentes com a média das idades."
   ]
  },
  {
   "cell_type": "markdown",
   "metadata": {},
   "source": [
    "### Conclusões"
   ]
  },
  {
   "cell_type": "markdown",
   "metadata": {},
   "source": [
    "Nesse parte vamos identificar as características que sugerem maior propabilidade de sobrevivência. Sendo assim, temos interesse nesse momento apenas nas informações dos sobrevivententes.\n",
    "\n",
    "Vamos criar um dataframe apenas com os registros dos sobreviventes para essa etapa."
   ]
  },
  {
   "cell_type": "code",
   "execution_count": 31,
   "metadata": {},
   "outputs": [],
   "source": [
    "# Criando o dataframe\n",
    "df_survived = df.query('survived == \"yes\"')\n",
    "\n",
    "# Confirmando que só temos todos os dados apenas dos sobreviventes\n",
    "assert df_survived.shape[0] == df.survived.value_counts()['yes']"
   ]
  },
  {
   "cell_type": "markdown",
   "metadata": {},
   "source": [
    "#### Pergunta 1 - O gênero do passageiro mostra alguma influência entre sobreviventes?"
   ]
  },
  {
   "cell_type": "markdown",
   "metadata": {},
   "source": [
    "Como vimos na fase de exploração, nesse momento precisamos ter cuidado com os números, pois temos mais homens que mulheres no nosso conjunto de dados. Portanto, para eliminar a influência do número absoluto de ocorrências de cada gênero, vamos analisar o resultado normalizado."
   ]
  },
  {
   "cell_type": "code",
   "execution_count": 32,
   "metadata": {},
   "outputs": [],
   "source": [
    "def survival_percentage(column):\n",
    "    \"\"\"\n",
    "    Função que calcula a porcentagem de sobreviventes de duas amostras\n",
    "    \n",
    "    Argumentos:\n",
    "        column: Coluna com as informações que serão avaliadas\n",
    "        \n",
    "    Retorna:\n",
    "        :return: Lista com os valores\n",
    "    \"\"\"\n",
    "    \n",
    "    # Obtendo o total de viajntes\n",
    "    total1 = df[column].value_counts()[x_axis[0]]\n",
    "    total2 = df[column].value_counts()[x_axis[1]]\n",
    "    \n",
    "    # Obtendo o total de sobreviventes\n",
    "    survived1 = df_survived[column].value_counts()[x_axis[0]]\n",
    "    survived2 = df_survived[column].value_counts()[x_axis[1]]\n",
    "    \n",
    "    # Obetendo o percentual de sobreviventes\n",
    "    survived_rate1 = survived1/total1\n",
    "    survived_rate2 = survived2/total2\n",
    "    \n",
    "    return [survived_rate1, survived_rate2]\n"
   ]
  },
  {
   "cell_type": "code",
   "execution_count": 33,
   "metadata": {},
   "outputs": [
    {
     "data": {
      "image/png": "[encoded data removed]",
      "text/plain": [
       "<Figure size 864x576 with 1 Axes>"
      ]
     },
     "metadata": {
      "needs_background": "light"
     },
     "output_type": "display_data"
    }
   ],
   "source": [
    "# Gerando gráfico da porcentagem de sobreviventes por gênero\n",
    "x_axis = ['male', 'female']\n",
    "y_axis = survival_percentage('sex')\n",
    "plt.figure(figsize=(12,8))\n",
    "plt.bar(x_axis, y_axis, color=['blue', 'red'])\n",
    "plt.title('Porcentagem de Sobrevivente por Gênero', fontsize=20)\n",
    "plt.xlabel('Gênero', fontsize=15)\n",
    "plt.ylabel('Sobreviventes [%]', fontsize=15)\n",
    "plt.xticks(fontsize=12)\n",
    "plt.yticks(fontsize=12);"
   ]
  },
  {
   "cell_type": "markdown",
   "metadata": {},
   "source": [
    "Do gráfico acima e fácil notar que, nos passageiros do nosso conjunto de dados, uma porcentagem muito maior de mulheres sobreviveram ao desastre do Titanic.\n",
    "\n",
    "A taxa de sobrevivência das mulheres foi maior que 70% enquanto a dos homens foi proxima de 20%."
   ]
  },
  {
   "cell_type": "markdown",
   "metadata": {},
   "source": [
    "#### Pergunta 2 - Viajar acompanhado mostra algum aumento nas chances de sobrevivência?"
   ]
  },
  {
   "cell_type": "markdown",
   "metadata": {},
   "source": [
    "Inicialmente, vamos ver os dados da coluna viajando sozinho ou nao."
   ]
  },
  {
   "cell_type": "code",
   "execution_count": 34,
   "metadata": {},
   "outputs": [
    {
     "data": {
      "image/png": "[encoded data removed]",
      "text/plain": [
       "<Figure size 864x576 with 1 Axes>"
      ]
     },
     "metadata": {
      "needs_background": "light"
     },
     "output_type": "display_data"
    }
   ],
   "source": [
    "# Gerando grafico da porcentagem de sobreviventes que viajavam acompanhados e que nao viajavam acompanhados\n",
    "x_axis = ['yes', 'no']\n",
    "y_axis= survival_percentage('travel_alone')\n",
    "plt.figure(figsize=(12,8))\n",
    "plt.bar(x_axis, y_axis, color=['blue', 'red'])\n",
    "plt.title('Porcentagem de Sobrevivente que Viajavam Sozinhos ou Acompanhados', fontsize=20)\n",
    "plt.xlabel('Viajnte Sozinho', fontsize=15)\n",
    "plt.ylabel('Sobreviventes [%]', fontsize=15)\n",
    "plt.xticks(fontsize=12)\n",
    "plt.yticks(fontsize=12);"
   ]
  },
  {
   "cell_type": "markdown",
   "metadata": {},
   "source": [
    "O gráfico acima indica um possível aumento de 20% nas chances de sobrevivência se estivesse viajando acompanhando.\n",
    "\n",
    "Outra questâo que podemos colocar é se o tipo de familiar tem alguma relevância."
   ]
  },
  {
   "cell_type": "code",
   "execution_count": 35,
   "metadata": {},
   "outputs": [
    {
     "name": "stdout",
     "output_type": "stream",
     "text": [
      "Travaling With Sibling/Spouse Ratio: 46.64%\n",
      "Travaling With Parent/Children Ratio: 51.17%\n"
     ]
    },
    {
     "data": {
      "image/png": "[encoded data removed]",
      "text/plain": [
       "<Figure size 864x576 with 1 Axes>"
      ]
     },
     "metadata": {
      "needs_background": "light"
     },
     "output_type": "display_data"
    }
   ],
   "source": [
    "# Obtendo o total de viajntes acompanhados e desacompanhado\n",
    "# Não podemos usar a função criada, pois no nosso conjunto de dados não existe a coluna que indica apenas\n",
    "#     se tem ou nao cada tipo de parente. Peecisamos criar um dataframe novo apenas com essa informação.\n",
    "sibsp_total = df['sibling_spouse'].apply(lambda x: \"no\" if x==0 else \"yes\")\n",
    "parch_total = df['parent_children'].apply(lambda x: \"no\" if x==0 else \"yes\")\n",
    "\n",
    "# Obtendo o total de sobreviventes acompanhados e desacompanhado\n",
    "sibsp_survived = df_survived['sibling_spouse'].apply(lambda x: \"no\" if x==0 else \"yes\")\n",
    "parch_survived = df_survived['parent_children'].apply(lambda x: \"no\" if x==0 else \"yes\")\n",
    "\n",
    "# Obtendo os percentuais\n",
    "sibsp_survived_rate = sibsp_survived.value_counts()['yes']/sibsp_total.value_counts()['yes']\n",
    "parch_survived_rate = parch_survived.value_counts()['yes']/parch_total.value_counts()['yes']\n",
    "\n",
    "# Plotando o gráfico\n",
    "x_axis = ['Silings/Spouse', 'Parents/Children']\n",
    "y_axis = [sibsp_survived_rate, parch_survived_rate]\n",
    "plt.figure(figsize=(12,8))\n",
    "plt.bar(x_axis, y_axis, color=['blue', 'red'])\n",
    "plt.title('Porcentagem de Sobrevivente de Acordo com o Membro da Família', fontsize=20)\n",
    "plt.xlabel('Viajando em companhia de', fontsize=15)\n",
    "plt.ylabel('Sobreviventes [%]', fontsize=15)\n",
    "plt.xticks(fontsize=12)\n",
    "plt.yticks(fontsize=12);\n",
    "\n",
    "print(f'Travaling With Sibling/Spouse Ratio: {sibsp_survived_rate:.2%}')\n",
    "print(f'Travaling With Parent/Children Ratio: {parch_survived_rate:.2%}')"
   ]
  },
  {
   "cell_type": "markdown",
   "metadata": {},
   "source": [
    "Percebemos que a viagem com pais ou filhos tem um percentual um pouco maior de sobreviventes, porém não é conclusivo que são estatisticamente diferentes.\n",
    "\n",
    "Como vimos um aumento grande de porcentagem de sobrevivência para os viajantes acompanhados e isso não se reproduziu para o tipo de acompanhante, vamos analisar se o numero de acompanhantes tem alguma influência.\n",
    "\n",
    "Vamos exibir a distribuicao dos valores daqueles que viajavam com familia para entender se a quantidade de acompanhantes era algo relevante."
   ]
  },
  {
   "cell_type": "code",
   "execution_count": 36,
   "metadata": {
    "scrolled": true
   },
   "outputs": [
    {
     "data": {
      "image/png": "[encoded data removed]",
      "text/plain": [
       "<Figure size 864x360 with 1 Axes>"
      ]
     },
     "metadata": {
      "needs_background": "light"
     },
     "output_type": "display_data"
    }
   ],
   "source": [
    "# Gerando a porcentgem de sobreviventes por número de membros da família\n",
    "x_axis = df_survived.query('travel_alone == \"no\"')['family_size'].unique()\n",
    "y_axis = []\n",
    "for x in x_axis:\n",
    "    y_axis.append(df_survived['family_size'].value_counts()[x]/df['family_size'].value_counts()[x])\n",
    "\n",
    "plt.figure(figsize=(12,5))\n",
    "plt.bar(x_axis, y_axis)\n",
    "plt.xlabel('Número de Familiares', fontsize=15)\n",
    "plt.ylabel('Sobreviventes [%]', fontsize=15)\n",
    "plt.title('Porcentagem de Sobrevivência por Tamanho da Família', fontsize=20)\n",
    "plt.xticks(fontsize=12)\n",
    "plt.yticks(fontsize=12);"
   ]
  },
  {
   "cell_type": "markdown",
   "metadata": {},
   "source": [
    "Interessante notar que talvez exista um tamanho ideal de família. A medida que aumentamos o numero de acompanhantes a taxa de sobrevivencia tambem aumenta, porém até três familiares - mais de 70% de sobreviventes. A partir desse numero, aumentar um integrante diminui muito a taxa de sobrevivencia."
   ]
  },
  {
   "cell_type": "markdown",
   "metadata": {},
   "source": [
    "#### Pergunta 3 - A idade da pessoa foi um fator relevante?"
   ]
  },
  {
   "cell_type": "markdown",
   "metadata": {},
   "source": [
    "A análise aqui será em relação a idade dos passageiros."
   ]
  },
  {
   "cell_type": "code",
   "execution_count": 37,
   "metadata": {},
   "outputs": [
    {
     "data": {
      "image/png": "[encoded data removed]",
      "text/plain": [
       "<Figure size 864x576 with 1 Axes>"
      ]
     },
     "metadata": {
      "needs_background": "light"
     },
     "output_type": "display_data"
    }
   ],
   "source": [
    "# Definindo a escala do eixo X\n",
    "df1 = df['age'].describe()\n",
    "low_limit = np.floor(df1['min'])\n",
    "upper_limit = np.ceil(df1['max'])\n",
    "bins = np.arange(low_limit, upper_limit+1, 10)\n",
    "\n",
    "total = df['age']\n",
    "survived = df_survived['age']\n",
    "\n",
    "# Plotanto do gráfico\n",
    "plt.figure(figsize=(12,8))\n",
    "plt.hist([total, survived], bins, density=True)\n",
    "plt.xlabel('Idade', fontsize=15)\n",
    "plt.ylabel('Passageiros [%]', fontsize=15)\n",
    "plt.title('Porcentagem de Individuos por Faixa de Idade', fontsize=20)\n",
    "plt.xticks(fontsize=12)\n",
    "plt.yticks(fontsize=12)\n",
    "\n",
    "# Definindo os labels para legenda\n",
    "orange_patch = mpatches.Patch(color='orange', label='% Surviventes')\n",
    "blue_patch = mpatches.Patch(color='blue', label='% Total Passageiros')\n",
    "plt.legend(handles=[blue_patch, orange_patch], fontsize=15);"
   ]
  },
  {
   "cell_type": "markdown",
   "metadata": {},
   "source": [
    "No gráfico acima estão exibidos os percentuais do total de passageiros e total de sobreviventes por idade.\n",
    "\n",
    "Podemos perceber que a percentual dos sobreviventes menores de dez anos é maior que o total de passageiros, indicando que indivíduos dessa idade teriam mais chances de sobrevivência.\n",
    "\n",
    "Esse comportamento também é visto, embora em bem menor escala, para os indíviduos entre 30 e 40 anos e entre 50 a 60 anos.\n",
    "\n",
    "Fazendo uma análise de forma geral, apesar de termos algumas faixas de idade com representatividade maior entre os sobreviventes que no total de passageiros, não é possível afirmar que a idade era fator relevante. Não podemos inferir uma relação que ter menor ou maior idade indicou maior ou menor chance de sobrevivência."
   ]
  },
  {
   "cell_type": "markdown",
   "metadata": {},
   "source": [
    "#### Pergunta 4 - Status econômico foi um fator que aumentou a taxa de sobrevivente?"
   ]
  },
  {
   "cell_type": "markdown",
   "metadata": {},
   "source": [
    "Para essa análise, vamos considerar a classe das cabines (primeira, segunda e terceira classe).\n",
    "\n",
    "Como vimos anteriormente, a varição na tarifa era muito grande. Inclusive, tinhamos pessoas viajando na primeira classe que haviam a tarifa como zero. Se considerassemos o valor pago pela passagem como indicador socio-econômico, essas pessoas da primeira classe seriam classificadas como de status social mais baixo e isso estaria errado.\n",
    "\n",
    "De forma similar a análise anterior, vamos plotar as porcentagens nas amostras do total de passageiros e no total de sobreviventes."
   ]
  },
  {
   "cell_type": "code",
   "execution_count": 38,
   "metadata": {},
   "outputs": [],
   "source": [
    "def percentage_over_sample(column):\n",
    "    \"\"\"\n",
    "    Função que calcula a porcentagem de cada parte da amostra entre o total de passageiros e os sobreviventes\n",
    "    \n",
    "    Argumentos:\n",
    "        column: Coluna com as informações que serão avaliadas\n",
    "\n",
    "    Retorna:\n",
    "        :return: listas com a contribuição no total de passageiros, entre os sobreviventes e os labels do eixo X\n",
    "    \"\"\"\n",
    "    \n",
    "    # Obtendo os total de passageiros e número por classe\n",
    "    # Como queremos o total, podemos contar qualquer coluna que tenha todos os valores disponíveis\n",
    "    df1 = df.groupby(['survived', column]).count()['passenger_id']\n",
    "    df2 = df.groupby(column).count()['passenger_id']\n",
    "\n",
    "    #Obtenha o total de passageiros\n",
    "    total_passenger = df1.sum()\n",
    "    total_survived = df1['yes'].sum()\n",
    "\n",
    "    # Definindo os labels\n",
    "    x_labels = df[column].dropna(how='all').unique()\n",
    "    x_labels = np.sort(x_labels)\n",
    "\n",
    "    # Definindo as taxas total e de sobreviventes por deck\n",
    "    total=[]\n",
    "    survived=[]\n",
    "    for x in x_labels:\n",
    "        try:\n",
    "            total.append(df2[x]/total_passenger)\n",
    "            survived.append(df1['yes'][x]/total_survived)\n",
    "        except:\n",
    "            survived.append(0)\n",
    "    \n",
    "    return [total, survived, x_labels]"
   ]
  },
  {
   "cell_type": "code",
   "execution_count": 39,
   "metadata": {},
   "outputs": [
    {
     "data": {
      "image/png": "[encoded data removed]",
      "text/plain": [
       "<Figure size 864x576 with 1 Axes>"
      ]
     },
     "metadata": {
      "needs_background": "light"
     },
     "output_type": "display_data"
    }
   ],
   "source": [
    "# Obtendo os valores do gráfico\n",
    "[total, survived, x_labels] = percentage_over_sample('passenger_class') \n",
    "bins = np.arange(len(x_labels))  # localização no eixo x dos grupos\n",
    "width = 0.3       # largura das barras\n",
    "\n",
    "# tracando as barras\n",
    "plt.figure(figsize=(12,8))\n",
    "blue_bars = plt.bar(bins, total, width, color='blue', alpha=.7, label='% Total')\n",
    "orange_bars = plt.bar(bins + width, survived, width, color='orange', alpha=.7, label='% Survived')\n",
    "\n",
    "# Adicionando título e rótulos\n",
    "plt.ylabel('Sobreviventes [%]', fontsize=15)\n",
    "plt.xlabel('Classe da Cabine', fontsize=15)\n",
    "plt.title('Porcentagem de Sobreviventes Por Classe', fontsize=20)\n",
    "locations = bins + width / 2  # localização dos marcadores no eixo x\n",
    "labels = ['1a', '2a', '3a']  # rótulos dos marcadores no eixo x mais adequados\n",
    "plt.xticks(locations, labels)\n",
    "plt.xticks(fontsize=12)\n",
    "plt.yticks(fontsize=12)\n",
    "\n",
    "# Adicionando legenda\n",
    "plt.legend(fontsize=15, loc=2);"
   ]
  },
  {
   "cell_type": "markdown",
   "metadata": {},
   "source": [
    "Como pode ser visto, o percentual de pessoas da primeira classe que sobreviveram foi maior que as outras classes. Alem disso, a representatividade dos passageiros da segunda classe aumentou entre os sobreviventes, indicando que esses passageiros tambem tiveram melhor sorte que os passageiros da terceira classe."
   ]
  },
  {
   "cell_type": "code",
   "execution_count": 40,
   "metadata": {},
   "outputs": [
    {
     "data": {
      "image/png": "[encoded data removed]",
      "text/plain": [
       "<Figure size 864x576 with 1 Axes>"
      ]
     },
     "metadata": {
      "needs_background": "light"
     },
     "output_type": "display_data"
    }
   ],
   "source": [
    "# Obtendo a porcentagem de sobrevivência\n",
    "df1 = df.groupby(['survived', 'passenger_class']).count()['passenger_id']\n",
    "df2 = df.groupby('passenger_class').count()['passenger_id']\n",
    "rate_1st = df1['yes'][1]/df2[1]\n",
    "rate_2nd = df1['yes'][2]/df2[2]\n",
    "rate_3rd = df1['yes'][3]/df2[3]\n",
    "rate = [rate_1st, rate_2nd, rate_3rd]\n",
    "\n",
    "bins = np.arange(len(rate))  # a localização no eixo x dos grupos\n",
    "width = 0.3       # a largura das barras\n",
    "\n",
    "# tracando o gráfico\n",
    "plt.figure(figsize=(12,8))\n",
    "plt.bar(bins, rate, width, color='green', alpha=.7, label='% Survived')\n",
    "\n",
    "# adicionando as informações no gráfico\n",
    "plt.ylabel('Sobreviventes [%]', fontsize=15)\n",
    "plt.xlabel('Classe da Cabine', fontsize=15)\n",
    "plt.title('Porcentagem de Sobreviventes por Classe', fontsize=20)\n",
    "labels = ['1a', '2a', '3a']  # rótulos dos marcadores no eixo x\n",
    "locations = bins\n",
    "plt.xticks(locations, labels)\n",
    "plt.xticks(fontsize=12)\n",
    "plt.yticks(fontsize=12)\n",
    "\n",
    "\n",
    "# legenda\n",
    "plt.legend(fontsize=15);"
   ]
  },
  {
   "cell_type": "markdown",
   "metadata": {},
   "source": [
    "Com o gráfico acima, fica evidente a influência da classe de viagem com chance de sobrevivência."
   ]
  },
  {
   "cell_type": "markdown",
   "metadata": {},
   "source": [
    "#### Pergunta 5 - O local da cabine tem alguma influência? "
   ]
  },
  {
   "cell_type": "markdown",
   "metadata": {},
   "source": [
    "Vamos iniciar analisando se o deck que estava localizada a cabine teve alguma influência. É natural pensar que as cabines de decks mais altos tenham impactado positivamente nas chances de sobrevivência.\n",
    "\n",
    "Vamos analisar a dispersão dos sobreviventes em relacao ao deck."
   ]
  },
  {
   "cell_type": "code",
   "execution_count": 41,
   "metadata": {},
   "outputs": [
    {
     "data": {
      "image/png": "[encoded data removed]",
      "text/plain": [
       "<Figure size 864x360 with 1 Axes>"
      ]
     },
     "metadata": {
      "needs_background": "light"
     },
     "output_type": "display_data"
    }
   ],
   "source": [
    "# Plotando um gráfico com o número de sobreviventes por deck\n",
    "graph_values = df_survived.groupby('cabin_deck').count()['passenger_id']\n",
    "plt.figure(figsize=(12,5))\n",
    "graph_values.plot(kind='bar')\n",
    "plt.ylabel('Número de Sobreviventes', fontsize=15)\n",
    "plt.xlabel('Deck da Cabine', fontsize=15)\n",
    "plt.title('Sobreviventes por Deck', fontsize=20)\n",
    "plt.xticks(rotation=0, fontsize=12)\n",
    "plt.yticks(fontsize=12);"
   ]
  },
  {
   "cell_type": "markdown",
   "metadata": {},
   "source": [
    "É possível ver que os decks B e C tiveram um número maior de sobreviventes, porém é de se imaginar que o número de cabines por deck seja variável. Sendo assim, a forma mais correta de avaliar é por porcentagens novamente."
   ]
  },
  {
   "cell_type": "code",
   "execution_count": 42,
   "metadata": {},
   "outputs": [
    {
     "data": {
      "image/png": "[encoded data removed]",
      "text/plain": [
       "<Figure size 864x576 with 1 Axes>"
      ]
     },
     "metadata": {
      "needs_background": "light"
     },
     "output_type": "display_data"
    }
   ],
   "source": [
    "# Gerando os valores do gráfico\n",
    "[total, survived, x_labels] = percentage_over_sample('cabin_deck')\n",
    "bins = np.arange(len(x_labels))  # localização no eixo x dos grupos\n",
    "width = 0.35                   # largura das barras\n",
    "\n",
    "# tracando o gráfico\n",
    "plt.figure(figsize=(12,8))\n",
    "blue_bars = plt.bar(bins, total, width, color='blue', alpha=.7, label='% Total')\n",
    "orange_bars = plt.bar(bins+width, survived, width, color='orange', alpha=.7, label='% Survived')\n",
    "\n",
    "# título e rótulos\n",
    "plt.ylabel('Sobreviventes[%]', fontsize=15)\n",
    "plt.xlabel('Deck da Cabine', fontsize=15)\n",
    "plt.title('Porcentagem de Passageitos Por Deck', fontsize=20)\n",
    "locations = bins + width / 2  # localização dos marcadores no eixo x\n",
    "labels = x_labels # rótulos dos marcadores no eixo x\n",
    "plt.xticks(locations, labels)\n",
    "plt.xticks(fontsize=12)\n",
    "plt.yticks(fontsize=12)\n",
    "\n",
    "\n",
    "# legenda\n",
    "plt.legend(fontsize=15);"
   ]
  },
  {
   "cell_type": "markdown",
   "metadata": {},
   "source": [
    "É possível notar que os decks B, D e E mostraram maior porcentagem de sobreviventes que entre o total de passageiros, entretanto a relação entre deck da cabine e sobrevivência não é algo muito evidente.\n",
    "\n",
    "Essa conclusão é um pouco antagônica ao que encontramos anteriormente, que sugere um aumento na chance de sobrevivência com base na classe do passageiro.\n",
    "\n",
    "Desta forma, vamos analisar a relação entre classe do passageiro e deck da cabine."
   ]
  },
  {
   "cell_type": "code",
   "execution_count": 43,
   "metadata": {},
   "outputs": [
    {
     "data": {
      "text/plain": [
       "passenger_class  cabin_deck\n",
       "1                A             15\n",
       "                 B             47\n",
       "                 C             59\n",
       "                 D             29\n",
       "                 E             25\n",
       "                 T              1\n",
       "2                D              4\n",
       "                 E              4\n",
       "                 F              8\n",
       "3                E              4\n",
       "                 F              1\n",
       "                 G              7\n",
       "Name: passenger_id, dtype: int64"
      ]
     },
     "execution_count": 43,
     "metadata": {},
     "output_type": "execute_result"
    }
   ],
   "source": [
    "df.groupby(['passenger_class', 'cabin_deck']).count()['passenger_id']"
   ]
  },
  {
   "cell_type": "markdown",
   "metadata": {},
   "source": [
    "Na tabela acima, vemos que a maioria das pessoas que tiveram a informação da cabine divulgada estavam na primeira classe.\n",
    "\n",
    "Sendo assim, a pouca amostra que temos das outras classes não impacta tanto a relação de sobrevivência com base no deck da cabine.\n",
    "\n",
    "Vamos analisar agora em relação ao número da cabine."
   ]
  },
  {
   "cell_type": "code",
   "execution_count": 44,
   "metadata": {},
   "outputs": [
    {
     "name": "stdout",
     "output_type": "stream",
     "text": [
      "Numeros unicos de cabines entre os passageiros: 92\n",
      "Numeros unicos de cabines entre os sobreviventes: 73\n"
     ]
    }
   ],
   "source": [
    "print(f'Numeros unicos de cabines entre os passageiros: {df[\"cabin_num\"].dropna().nunique()}')\n",
    "\n",
    "print(f'Numeros unicos de cabines entre os sobreviventes: {df_survived[\"cabin_num\"].dropna().nunique()}')"
   ]
  },
  {
   "cell_type": "markdown",
   "metadata": {},
   "source": [
    "É possível ver que temos um número muito grande de cabines com valores únicos. Sendo assim, a melhor forma de analisar alguma tendência é pela distribuição desses valores dentro do conjunto de dados dos sobreviventes."
   ]
  },
  {
   "cell_type": "code",
   "execution_count": 45,
   "metadata": {},
   "outputs": [
    {
     "name": "stderr",
     "output_type": "stream",
     "text": [
      "C:\\Users\\Leandro\\Anaconda3\\lib\\site-packages\\ipykernel_launcher.py:5: SettingWithCopyWarning: \n",
      "A value is trying to be set on a copy of a slice from a DataFrame.\n",
      "Try using .loc[row_indexer,col_indexer] = value instead\n",
      "\n",
      "See the caveats in the documentation: http://pandas.pydata.org/pandas-docs/stable/indexing.html#indexing-view-versus-copy\n",
      "  \"\"\"\n",
      "C:\\Users\\Leandro\\Anaconda3\\lib\\site-packages\\ipykernel_launcher.py:8: SettingWithCopyWarning: \n",
      "A value is trying to be set on a copy of a slice from a DataFrame.\n",
      "Try using .loc[row_indexer,col_indexer] = value instead\n",
      "\n",
      "See the caveats in the documentation: http://pandas.pydata.org/pandas-docs/stable/indexing.html#indexing-view-versus-copy\n",
      "  \n"
     ]
    },
    {
     "data": {
      "image/png": "[encoded data removed]",
      "text/plain": [
       "<Figure size 864x576 with 1 Axes>"
      ]
     },
     "metadata": {
      "needs_background": "light"
     },
     "output_type": "display_data"
    }
   ],
   "source": [
    "# Histograma das cabines dos passageiros e dos sobreviventes\n",
    "# Definindo os dataframes dos passageiros que serão analisados\n",
    "\n",
    "df1 = df.query('cabin_num == cabin_num') # eliminando as colunas sem informação\n",
    "df1['cabin_num'] = df1['cabin_num'].astype('float')\n",
    "\n",
    "df2 = df_survived.query('cabin_num == cabin_num')\n",
    "df2['cabin_num'] = df2['cabin_num'].astype('float')\n",
    "\n",
    "# Definindo os valores do gráfico\n",
    "cabin_passengers = df1['cabin_num']\n",
    "cabin_survived = df2['cabin_num']\n",
    "\n",
    "# Plotando o gráfico\n",
    "bins = np.arange(0,160,10)\n",
    "plt.figure(figsize=(12,8))\n",
    "plt.hist(cabin_passengers, bins, color='blue')\n",
    "plt.hist(cabin_survived, bins, alpha=0.7, color='orange')\n",
    "plt.xlabel('Número da Cabine', fontsize=15)\n",
    "plt.ylabel('Número de Passageiros', fontsize=15)\n",
    "plt.title('Número de Passageiros de Acordo com o Número da Cabine', fontsize=20)\n",
    "plt.xticks(fontsize=12)\n",
    "plt.yticks(fontsize=12)\n",
    "plt.legend(['Total Passageiros','Sobreviventes'], fontsize=15);"
   ]
  },
  {
   "cell_type": "markdown",
   "metadata": {},
   "source": [
    "É possível notar que os dois gráficos estão deslocado para a esquerda, o que indica que tinhamos mais passageiros, com informação divulgada, entre as cabines com numeros menores.\n",
    "\n",
    "Entretanto, analisando a proporção entre os intervalos, o local da cabine não parece ter tido influência nas chances de sobrevivência. Proporcionalmente, a diferença entre o total de passageiros e os sobreviventes estão bem parecidas nos interalos que temos amostra suficientemente grande.\n",
    "\n",
    "É possível inferir ainda que, pela proporção entre os dois gráficos, a maioria dos que sobreviveram tiveram identificação em qual cabine estava. No grafico abaixo essa conclusao fica mais evidente"
   ]
  },
  {
   "cell_type": "code",
   "execution_count": 46,
   "metadata": {},
   "outputs": [
    {
     "name": "stderr",
     "output_type": "stream",
     "text": [
      "C:\\Users\\Leandro\\Anaconda3\\lib\\site-packages\\ipykernel_launcher.py:9: SettingWithCopyWarning: \n",
      "A value is trying to be set on a copy of a slice from a DataFrame.\n",
      "Try using .loc[row_indexer,col_indexer] = value instead\n",
      "\n",
      "See the caveats in the documentation: http://pandas.pydata.org/pandas-docs/stable/indexing.html#indexing-view-versus-copy\n",
      "  if __name__ == '__main__':\n"
     ]
    },
    {
     "data": {
      "image/png": "[encoded data removed]",
      "text/plain": [
       "<Figure size 864x576 with 1 Axes>"
      ]
     },
     "metadata": {
      "needs_background": "light"
     },
     "output_type": "display_data"
    }
   ],
   "source": [
    "# Histograma das cabines dos passageiros com identifição de cabines sobreviventes e nao-sobreviventes\n",
    "# Definindo os dataframes dos passageiros que serão analisados\n",
    "\n",
    "df1 = df.query('cabin_num == cabin_num') # eliminando as colunas sem informação\n",
    "df1 = df1.query('survived == \"no\"')\n",
    "df1['cabin_num'] = df1['cabin_num'].astype('float')\n",
    "\n",
    "df2 = df_survived.query('cabin_num == cabin_num')\n",
    "df2['cabin_num'] = df2['cabin_num'].astype('float')\n",
    "\n",
    "# Definindo os valores do gráfico\n",
    "cabin_not_survived = df1['cabin_num']\n",
    "cabin_survived = df2['cabin_num']\n",
    "\n",
    "# Plotando o gráfico\n",
    "bins = np.arange(0,160,10)\n",
    "plt.figure(figsize=(12,8))\n",
    "plt.hist(cabin_survived, bins, color='blue')\n",
    "plt.hist(cabin_not_survived, bins, alpha=0.7, color='orange')\n",
    "plt.xlabel('Número da Cabine', fontsize=15)\n",
    "plt.ylabel('Número de Passageiros', fontsize=15)\n",
    "plt.title('Número de Passageiros de Acordo com o Número da Cabine', fontsize=20)\n",
    "plt.legend(['Sobrevivente','Não Sobrevivente'], fontsize=15);"
   ]
  },
  {
   "cell_type": "markdown",
   "metadata": {},
   "source": [
    "## Conclusão"
   ]
  },
  {
   "cell_type": "markdown",
   "metadata": {},
   "source": [
    "Como explicado no objetivo, a intenção do relatório não é fazer uma análise estatística profunda nos dados para chegar a conclusões finais. Nosso objetivo é analisar os dados procurando indicativos de características que pudessem aumentar as chances de sobrevivência ao desastre do Titanic.\n",
    "\n",
    "Com base no exposto acima, vamos recordar nossas perguntas e os indicativos que tivemos a partir da analise dos dados.\n",
    "\n",
    "Pergunta 1\n",
    "    - O gênero do passageiro mostra alguma influência entre sobreviventes?\n",
    "        - Os dados mostram que 70% das mulheres sobreviveram enquanto apenas 20% dos homens tiveram a mesma sorte.\n",
    "\n",
    "Pergunta 2\n",
    "    - Viajar acompanhado mostra algum aumento nas chances de sobrevivência?\n",
    "        As pessoas que viajaram acompanhadas sobreviveram em uma relação 20% maior que as pessoas que viajaram sozinhas.\n",
    "        Os integrantes da familia que viajavam juntos parecem não ter influência, porém o número de acompanhantes, sim.\n",
    "        Os dados sugerem que viajar com 3 acompanhantes seria o ideal para ter mais chances de sobrevivência.\n",
    "\n",
    "Pergunta 3\n",
    "    - A idade da pessoa foi um fator relevante?\n",
    "        As chances relacionadas com a idade da pessoa mostraram variação entre as faixas. Sendo assim, não podemos concluir que esse foi um fator relevante.\n",
    "        Uma possível excessão foram os individuos menores de 10 anos que mostraram ralação de sobrevivência acima da média\n",
    "\n",
    "Pergunta 4\n",
    "    - Status econômico foi um fator que aumentou a taxa de sobrevivência?\n",
    "        Para essa pergunta analisamos apenas a classe em que o passageiro viajava e notamos um idicativo que teve influência.\n",
    "        Uma porcentagem maior de pessoas sobreviveram a medida que aumentavamos o status econômico ou seja, migrávamos para primeira classe.\n",
    "\n",
    "Pergunta 5\n",
    "    - O local da cabine tem alguma influência?\n",
    "        A informação da cabine era que trazia mais incertezas pelo número de células sem informação.\n",
    "        A análise sugere que não temos relação entre local da cabine, deck e número, e sobrevivência. Entretanto, parte dessa conclusão pode estar relacionada ao fato da grande maioria dessa informação estar apenas nos passageiros da primeira classe.\n",
    "        Uma inferência que podemos fazer com base na informação das cabines é que os passageiros que tinham essa informação preenchida tiveram alta taxa de sobrevivência.        "
   ]
  },
  {
   "cell_type": "markdown",
   "metadata": {},
   "source": [
    "### Limitações"
   ]
  },
  {
   "cell_type": "markdown",
   "metadata": {},
   "source": [
    "Durante a análise dos dados encontramos alguns fatores que limitavam utilizar alguns dados, principalmente em referência a valores ausentes em algumas colunas. Apesar da identificação da cabine ter sido a coluna com maior número de dados ausentes, também identificamos essa limitação na coluna da idade e do porto de embarque.\n",
    "\n",
    "Outra limitação, mas agora só relacionada a identificação das cabines, foram linhas com mais de uma informação para o mesmo atributo.\n",
    "\n",
    "Para contornar essa situação foram adotadas as seguintes medidas:\n",
    "- Porto de Embarque: Como esse não foi uma informação utilizada nas análises, não executamos nenhum tipo de alteração nessa coluna\n",
    "    \n",
    "- Age: Para a coluna com informação da idade, os dados ausesntes foram preenchidos com a média da idade da amostra. O impacto dessa ação é considerável, pois 20% da nossa amostra não tinha informação de idade e a taxa de sobrevivência desse grupo foi de, aproximadamente, 29%.\n",
    "    \n",
    "- Cabine: Essa informação foi considerado o deck e a numeração da primeira cabine com as informações completas. O impacto dessa ação não pareceu aumentar muito o grau de incerteza pela proximidade dos decks e números das cabines considerados e desconsiderados.\n",
    "    \n",
    "Outras alterações foram feitas para facilitar a análise dos dados, como inclusão de uma coluna com informação se o passageiro viajava sozinho, e alterado o tipo de dado do gênero e indicação de sobrevivência para dados categoricos."
   ]
  },
  {
   "cell_type": "markdown",
   "metadata": {},
   "source": [
    "### Referências"
   ]
  },
  {
   "cell_type": "markdown",
   "metadata": {},
   "source": [
    "Para escrever o relatório foram utilizadas as seguintes referências:\n",
    "\n",
    "- Pandas Documentation - https://pandas.pydata.org/pandas-docs/stable/index.html#\n",
    "\n",
    "\n",
    "- Numpy Documentation - https://docs.scipy.org/doc/numpy/reference/index.html\n",
    "\n",
    "\n",
    "- Matplotlib Pyplot Documentation - https://matplotlib.org/api/_as_gen/matplotlib.pyplot.html\n",
    "\n",
    "\n",
    "- Python Documentation (regular expression) - https://docs.python.org/3/library/re.html\n",
    "\n",
    "\n",
    "- StackOverflow Forum\n",
    "\n",
    "\n",
    "    - Operador Logico \"E\" em query:  \n",
    "        https://stackoverflow.com/questions/469913/regular-expressions-is-there-an-and-operator  \n",
    "        https://stackoverflow.com/questions/3041320/regex-and-operator\n",
    "    \n",
    "     \n",
    "    - Como retornar apenas os valores nulos em uma query:  \n",
    "      https://stackoverflow.com/questions/37863660/pandas-dataframe-query-fetch-not-null-rows-pandas-equivalent-to-sql-is-no\n",
    "    \n",
    "    \n",
    "    - Como alterar os tamanhos dos graficos com matplotlib:  \n",
    "      https://stackoverflow.com/questions/332289/how-do-you-change-the-size-of-figures-drawn-with-matplotlib\n",
    "    \n",
    "    \n",
    "    - Como alterar valores numericos para ordinais:  \n",
    "      https://stackoverflow.com/questions/9647202/ordinal-numbers-replacement\n",
    "    \n",
    "- Aulas do Curso Funcamentos em Data Science I - https://br.udacity.com/course/python-fundamentos-data-science--nd110\n",
    "\n",
    "\n",
    "- Titanicos em Acao - https://titanicosemacao.wordpress.com/2010/04/26/cabines-serie-luxos-do-titanic/\n",
    "\n",
    "\n",
    "- Kaggle - https://www.kaggle.com/c/titanic/data"
   ]
  }
 ],
 "metadata": {
  "kernelspec": {
   "display_name": "Python 3",
   "language": "python",
   "name": "python3"
  },
  "language_info": {
   "codemirror_mode": {
    "name": "ipython",
    "version": 3
   },
   "file_extension": ".py",
   "mimetype": "text/x-python",
   "name": "python",
   "nbconvert_exporter": "python",
   "pygments_lexer": "ipython3",
   "version": "3.7.0"
  }
 },
 "nbformat": 4,
 "nbformat_minor": 1
}
